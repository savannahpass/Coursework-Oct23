{
 "cells": [
  {
   "cell_type": "markdown",
   "id": "e44f4264",
   "metadata": {},
   "source": [
    "## Pre-Processing\n",
    "\n",
    "#### Data:\n",
    "`interactions.csv`\\\n",
    "`recipes.csv`\\\n",
    "`users.csv`\n",
    "\n",
    "#### Introduction:\n",
    "*The goal of the preprocessing work is to prepare your data for fitting models. If you identified some categorical features in your dataset in the EDA step, now is the time to create dummy features to allow for the inclusion of those\n",
    "features in your model development. Additionally, standardizing your features numeric magnitude and creating train and test splits happen in this step. You may want to save a version of your clean, preprocessed data frame as a CSV to access later.*\n",
    "\n",
    "#### General Steps:\n",
    "- Create dummy or indicator features for categorical variables: `get_dummies()`\n",
    "- Standardize the magnitude of numeric features using a scaler: `StandardScaler()`\n",
    "- Split into testing and training datasets:  `like train_test_split()`\n",
    "\n",
    "#### For collaborative filtering:\n",
    "- Create one dataset for users and recipes"
   ]
  },
  {
   "cell_type": "code",
   "execution_count": 44,
   "id": "346ef328",
   "metadata": {},
   "outputs": [],
   "source": [
    "import numpy as np \n",
    "import pandas as pd \n",
    "import matplotlib.pyplot as plt \n",
    "import seaborn as sns\n",
    "sns.set()\n",
    "import sklearn\n",
    "\n",
    "from sklearn.model_selection import train_test_split\n",
    "\n",
    "# Show plots inline\n",
    "%matplotlib inline"
   ]
  },
  {
   "cell_type": "code",
   "execution_count": 45,
   "id": "d1057158",
   "metadata": {},
   "outputs": [],
   "source": [
    "interactions = pd.read_csv('interactions.csv',index_col=[0])\n",
    "recipes = pd.read_csv('recipes.csv',index_col=[0])\n",
    "users = pd.read_csv('users.csv',index_col=[0])"
   ]
  },
  {
   "cell_type": "code",
   "execution_count": 46,
   "id": "11ebefad",
   "metadata": {},
   "outputs": [
    {
     "data": {
      "text/html": [
       "<div>\n",
       "<style scoped>\n",
       "    .dataframe tbody tr th:only-of-type {\n",
       "        vertical-align: middle;\n",
       "    }\n",
       "\n",
       "    .dataframe tbody tr th {\n",
       "        vertical-align: top;\n",
       "    }\n",
       "\n",
       "    .dataframe thead th {\n",
       "        text-align: right;\n",
       "    }\n",
       "</style>\n",
       "<table border=\"1\" class=\"dataframe\">\n",
       "  <thead>\n",
       "    <tr style=\"text-align: right;\">\n",
       "      <th></th>\n",
       "      <th>recipe</th>\n",
       "      <th>recipe_id</th>\n",
       "      <th>minutes</th>\n",
       "      <th>user_id</th>\n",
       "      <th>submitted</th>\n",
       "      <th>tags</th>\n",
       "      <th>nutrition</th>\n",
       "      <th>n_steps</th>\n",
       "      <th>steps</th>\n",
       "      <th>description</th>\n",
       "      <th>ingredients</th>\n",
       "      <th>n_ingredients</th>\n",
       "      <th>rating</th>\n",
       "      <th>count</th>\n",
       "    </tr>\n",
       "  </thead>\n",
       "  <tbody>\n",
       "    <tr>\n",
       "      <th>0</th>\n",
       "      <td>arriba   baked winter squash mexican style</td>\n",
       "      <td>137739</td>\n",
       "      <td>55</td>\n",
       "      <td>47892</td>\n",
       "      <td>2005-09-16</td>\n",
       "      <td>['60-minutes-or-less', 'time-to-make', 'course...</td>\n",
       "      <td>[51.5, 0.0, 13.0, 0.0, 2.0, 0.0, 4.0]</td>\n",
       "      <td>11</td>\n",
       "      <td>['make a choice and proceed with recipe', 'dep...</td>\n",
       "      <td>autumn is my favorite time of year to cook! th...</td>\n",
       "      <td>['winter squash', 'mexican seasoning', 'mixed ...</td>\n",
       "      <td>7</td>\n",
       "      <td>5.0</td>\n",
       "      <td>3</td>\n",
       "    </tr>\n",
       "  </tbody>\n",
       "</table>\n",
       "</div>"
      ],
      "text/plain": [
       "                                       recipe  recipe_id  minutes  user_id  \\\n",
       "0  arriba   baked winter squash mexican style     137739       55    47892   \n",
       "\n",
       "    submitted                                               tags  \\\n",
       "0  2005-09-16  ['60-minutes-or-less', 'time-to-make', 'course...   \n",
       "\n",
       "                               nutrition  n_steps  \\\n",
       "0  [51.5, 0.0, 13.0, 0.0, 2.0, 0.0, 4.0]       11   \n",
       "\n",
       "                                               steps  \\\n",
       "0  ['make a choice and proceed with recipe', 'dep...   \n",
       "\n",
       "                                         description  \\\n",
       "0  autumn is my favorite time of year to cook! th...   \n",
       "\n",
       "                                         ingredients  n_ingredients  rating  \\\n",
       "0  ['winter squash', 'mexican seasoning', 'mixed ...              7     5.0   \n",
       "\n",
       "   count  \n",
       "0      3  "
      ]
     },
     "execution_count": 46,
     "metadata": {},
     "output_type": "execute_result"
    }
   ],
   "source": [
    "recipes.head(1)"
   ]
  },
  {
   "cell_type": "code",
   "execution_count": 47,
   "id": "c18c8f76",
   "metadata": {},
   "outputs": [
    {
     "data": {
      "text/html": [
       "<div>\n",
       "<style scoped>\n",
       "    .dataframe tbody tr th:only-of-type {\n",
       "        vertical-align: middle;\n",
       "    }\n",
       "\n",
       "    .dataframe tbody tr th {\n",
       "        vertical-align: top;\n",
       "    }\n",
       "\n",
       "    .dataframe thead th {\n",
       "        text-align: right;\n",
       "    }\n",
       "</style>\n",
       "<table border=\"1\" class=\"dataframe\">\n",
       "  <thead>\n",
       "    <tr style=\"text-align: right;\">\n",
       "      <th></th>\n",
       "      <th>user_id</th>\n",
       "      <th>recipe_id</th>\n",
       "      <th>date</th>\n",
       "      <th>rating</th>\n",
       "      <th>review</th>\n",
       "      <th>word_count</th>\n",
       "      <th>review_clean</th>\n",
       "    </tr>\n",
       "  </thead>\n",
       "  <tbody>\n",
       "    <tr>\n",
       "      <th>0</th>\n",
       "      <td>38094</td>\n",
       "      <td>40893</td>\n",
       "      <td>2003-02-17</td>\n",
       "      <td>4</td>\n",
       "      <td>Great with a salad. Cooked on top of stove for...</td>\n",
       "      <td>27</td>\n",
       "      <td>great with a salad. cooked on top of stove for...</td>\n",
       "    </tr>\n",
       "    <tr>\n",
       "      <th>1</th>\n",
       "      <td>1293707</td>\n",
       "      <td>40893</td>\n",
       "      <td>2011-12-21</td>\n",
       "      <td>5</td>\n",
       "      <td>So simple, so delicious! Great for chilly fall...</td>\n",
       "      <td>31</td>\n",
       "      <td>so simple, so delicious! great for chilly fall...</td>\n",
       "    </tr>\n",
       "  </tbody>\n",
       "</table>\n",
       "</div>"
      ],
      "text/plain": [
       "   user_id  recipe_id        date  rating  \\\n",
       "0    38094      40893  2003-02-17       4   \n",
       "1  1293707      40893  2011-12-21       5   \n",
       "\n",
       "                                              review  word_count  \\\n",
       "0  Great with a salad. Cooked on top of stove for...          27   \n",
       "1  So simple, so delicious! Great for chilly fall...          31   \n",
       "\n",
       "                                        review_clean  \n",
       "0  great with a salad. cooked on top of stove for...  \n",
       "1  so simple, so delicious! great for chilly fall...  "
      ]
     },
     "execution_count": 47,
     "metadata": {},
     "output_type": "execute_result"
    }
   ],
   "source": [
    "interactions.head(2)"
   ]
  },
  {
   "cell_type": "code",
   "execution_count": 48,
   "id": "2da68739",
   "metadata": {},
   "outputs": [
    {
     "data": {
      "text/html": [
       "<div>\n",
       "<style scoped>\n",
       "    .dataframe tbody tr th:only-of-type {\n",
       "        vertical-align: middle;\n",
       "    }\n",
       "\n",
       "    .dataframe tbody tr th {\n",
       "        vertical-align: top;\n",
       "    }\n",
       "\n",
       "    .dataframe thead th {\n",
       "        text-align: right;\n",
       "    }\n",
       "</style>\n",
       "<table border=\"1\" class=\"dataframe\">\n",
       "  <thead>\n",
       "    <tr style=\"text-align: right;\">\n",
       "      <th></th>\n",
       "      <th>user_id</th>\n",
       "      <th>recipe_id</th>\n",
       "      <th>date</th>\n",
       "      <th>rating</th>\n",
       "      <th>word_count</th>\n",
       "      <th>review_clean</th>\n",
       "    </tr>\n",
       "  </thead>\n",
       "  <tbody>\n",
       "    <tr>\n",
       "      <th>0</th>\n",
       "      <td>38094</td>\n",
       "      <td>40893</td>\n",
       "      <td>2003-02-17</td>\n",
       "      <td>4</td>\n",
       "      <td>27</td>\n",
       "      <td>great with a salad. cooked on top of stove for...</td>\n",
       "    </tr>\n",
       "  </tbody>\n",
       "</table>\n",
       "</div>"
      ],
      "text/plain": [
       "   user_id  recipe_id        date  rating  word_count  \\\n",
       "0    38094      40893  2003-02-17       4          27   \n",
       "\n",
       "                                        review_clean  \n",
       "0  great with a salad. cooked on top of stove for...  "
      ]
     },
     "execution_count": 48,
     "metadata": {},
     "output_type": "execute_result"
    }
   ],
   "source": [
    "interactions = interactions.drop(columns=['review'])\n",
    "interactions.head(1)"
   ]
  },
  {
   "cell_type": "code",
   "execution_count": 49,
   "id": "e9a4451e",
   "metadata": {},
   "outputs": [
    {
     "data": {
      "text/html": [
       "<div>\n",
       "<style scoped>\n",
       "    .dataframe tbody tr th:only-of-type {\n",
       "        vertical-align: middle;\n",
       "    }\n",
       "\n",
       "    .dataframe tbody tr th {\n",
       "        vertical-align: top;\n",
       "    }\n",
       "\n",
       "    .dataframe thead th {\n",
       "        text-align: right;\n",
       "    }\n",
       "</style>\n",
       "<table border=\"1\" class=\"dataframe\">\n",
       "  <thead>\n",
       "    <tr style=\"text-align: right;\">\n",
       "      <th></th>\n",
       "      <th>user_id</th>\n",
       "      <th>count</th>\n",
       "      <th>initial_date</th>\n",
       "      <th>final_date</th>\n",
       "      <th>days_active</th>\n",
       "      <th>frequency</th>\n",
       "      <th>rating</th>\n",
       "    </tr>\n",
       "  </thead>\n",
       "  <tbody>\n",
       "    <tr>\n",
       "      <th>0</th>\n",
       "      <td>1533</td>\n",
       "      <td>128</td>\n",
       "      <td>2002-02-19</td>\n",
       "      <td>2008-03-01</td>\n",
       "      <td>2202 days</td>\n",
       "      <td>0.058129</td>\n",
       "      <td>4.710938</td>\n",
       "    </tr>\n",
       "    <tr>\n",
       "      <th>1</th>\n",
       "      <td>1535</td>\n",
       "      <td>794</td>\n",
       "      <td>2004-05-22</td>\n",
       "      <td>2018-03-03</td>\n",
       "      <td>5033 days</td>\n",
       "      <td>0.157759</td>\n",
       "      <td>4.473552</td>\n",
       "    </tr>\n",
       "  </tbody>\n",
       "</table>\n",
       "</div>"
      ],
      "text/plain": [
       "   user_id  count initial_date  final_date days_active  frequency    rating\n",
       "0     1533    128   2002-02-19  2008-03-01   2202 days   0.058129  4.710938\n",
       "1     1535    794   2004-05-22  2018-03-03   5033 days   0.157759  4.473552"
      ]
     },
     "execution_count": 49,
     "metadata": {},
     "output_type": "execute_result"
    }
   ],
   "source": [
    "users.head(2)"
   ]
  },
  {
   "cell_type": "code",
   "execution_count": 50,
   "id": "1d43713d",
   "metadata": {},
   "outputs": [
    {
     "data": {
      "text/html": [
       "<div>\n",
       "<style scoped>\n",
       "    .dataframe tbody tr th:only-of-type {\n",
       "        vertical-align: middle;\n",
       "    }\n",
       "\n",
       "    .dataframe tbody tr th {\n",
       "        vertical-align: top;\n",
       "    }\n",
       "\n",
       "    .dataframe thead th {\n",
       "        text-align: right;\n",
       "    }\n",
       "</style>\n",
       "<table border=\"1\" class=\"dataframe\">\n",
       "  <thead>\n",
       "    <tr style=\"text-align: right;\">\n",
       "      <th></th>\n",
       "      <th>user_id</th>\n",
       "      <th>count</th>\n",
       "      <th>frequency</th>\n",
       "      <th>rating</th>\n",
       "    </tr>\n",
       "  </thead>\n",
       "  <tbody>\n",
       "    <tr>\n",
       "      <th>count</th>\n",
       "      <td>2.264190e+05</td>\n",
       "      <td>226419.000000</td>\n",
       "      <td>54856.000000</td>\n",
       "      <td>226419.00000</td>\n",
       "    </tr>\n",
       "    <tr>\n",
       "      <th>mean</th>\n",
       "      <td>5.940020e+08</td>\n",
       "      <td>5.000455</td>\n",
       "      <td>0.093665</td>\n",
       "      <td>3.87246</td>\n",
       "    </tr>\n",
       "    <tr>\n",
       "      <th>std</th>\n",
       "      <td>9.013898e+08</td>\n",
       "      <td>49.679536</td>\n",
       "      <td>0.350759</td>\n",
       "      <td>1.77354</td>\n",
       "    </tr>\n",
       "    <tr>\n",
       "      <th>min</th>\n",
       "      <td>1.533000e+03</td>\n",
       "      <td>1.000000</td>\n",
       "      <td>0.000365</td>\n",
       "      <td>0.00000</td>\n",
       "    </tr>\n",
       "    <tr>\n",
       "      <th>25%</th>\n",
       "      <td>5.530275e+05</td>\n",
       "      <td>1.000000</td>\n",
       "      <td>0.004784</td>\n",
       "      <td>3.80000</td>\n",
       "    </tr>\n",
       "    <tr>\n",
       "      <th>50%</th>\n",
       "      <td>1.578078e+06</td>\n",
       "      <td>1.000000</td>\n",
       "      <td>0.011450</td>\n",
       "      <td>5.00000</td>\n",
       "    </tr>\n",
       "    <tr>\n",
       "      <th>75%</th>\n",
       "      <td>1.803500e+09</td>\n",
       "      <td>2.000000</td>\n",
       "      <td>0.036145</td>\n",
       "      <td>5.00000</td>\n",
       "    </tr>\n",
       "    <tr>\n",
       "      <th>max</th>\n",
       "      <td>2.002373e+09</td>\n",
       "      <td>7671.000000</td>\n",
       "      <td>12.000000</td>\n",
       "      <td>5.00000</td>\n",
       "    </tr>\n",
       "  </tbody>\n",
       "</table>\n",
       "</div>"
      ],
      "text/plain": [
       "            user_id          count     frequency        rating\n",
       "count  2.264190e+05  226419.000000  54856.000000  226419.00000\n",
       "mean   5.940020e+08       5.000455      0.093665       3.87246\n",
       "std    9.013898e+08      49.679536      0.350759       1.77354\n",
       "min    1.533000e+03       1.000000      0.000365       0.00000\n",
       "25%    5.530275e+05       1.000000      0.004784       3.80000\n",
       "50%    1.578078e+06       1.000000      0.011450       5.00000\n",
       "75%    1.803500e+09       2.000000      0.036145       5.00000\n",
       "max    2.002373e+09    7671.000000     12.000000       5.00000"
      ]
     },
     "execution_count": 50,
     "metadata": {},
     "output_type": "execute_result"
    }
   ],
   "source": [
    "users.describe()"
   ]
  },
  {
   "cell_type": "code",
   "execution_count": 51,
   "id": "6faf1bc6",
   "metadata": {},
   "outputs": [
    {
     "name": "stdout",
     "output_type": "stream",
     "text": [
      "(226419, 7)\n",
      "(1132198, 6)\n",
      "(230921, 14)\n"
     ]
    }
   ],
   "source": [
    "print(users.shape)\n",
    "print(interactions.shape)\n",
    "print(recipes.shape)"
   ]
  },
  {
   "cell_type": "markdown",
   "id": "a66ec700",
   "metadata": {},
   "source": [
    "## Categorical Variables"
   ]
  },
  {
   "cell_type": "markdown",
   "id": "d7058d93",
   "metadata": {},
   "source": [
    "Dont need to categorize any variables because we use the TIDIF vectorizor"
   ]
  },
  {
   "cell_type": "code",
   "execution_count": 40,
   "id": "13c927b7",
   "metadata": {},
   "outputs": [],
   "source": [
    "#dfo = df.select_dtypes(include=['object']) # select object type columns\n",
    "#df = pd.concat([df.drop(dfo, axis=1), pd.get_dummies(dfo)], axis=1)"
   ]
  },
  {
   "cell_type": "code",
   "execution_count": 52,
   "id": "d471c31c",
   "metadata": {},
   "outputs": [],
   "source": [
    "review_comments = []\n",
    "for i in range(len(interactions['review_clean'])):\n",
    "    l = interactions['review_clean'][i].split()\n",
    "    review_comments.extend(l)"
   ]
  },
  {
   "cell_type": "code",
   "execution_count": 53,
   "id": "0f145400",
   "metadata": {},
   "outputs": [
    {
     "data": {
      "text/plain": [
       "list"
      ]
     },
     "execution_count": 53,
     "metadata": {},
     "output_type": "execute_result"
    }
   ],
   "source": [
    "type(review_comments)"
   ]
  },
  {
   "cell_type": "code",
   "execution_count": 54,
   "id": "94ce03db",
   "metadata": {},
   "outputs": [],
   "source": [
    "recipe_titles = []\n",
    "for i in range(len(recipes['recipe'])):\n",
    "    l = recipes['recipe'][i].split()\n",
    "    recipe_titles.extend(l)"
   ]
  },
  {
   "cell_type": "code",
   "execution_count": 55,
   "id": "7a33152d",
   "metadata": {},
   "outputs": [
    {
     "data": {
      "text/plain": [
       "list"
      ]
     },
     "execution_count": 55,
     "metadata": {},
     "output_type": "execute_result"
    }
   ],
   "source": [
    "type(recipe_titles)"
   ]
  },
  {
   "cell_type": "markdown",
   "id": "3cccc440",
   "metadata": {},
   "source": [
    "### TFIDF on Recipe Titles"
   ]
  },
  {
   "cell_type": "code",
   "execution_count": null,
   "id": "e737de63",
   "metadata": {},
   "outputs": [],
   "source": [
    "# Import TfidfVectorizer\n",
    "from sklearn.feature_extraction.text import TfidfVectorizer"
   ]
  },
  {
   "cell_type": "code",
   "execution_count": 56,
   "id": "29bde1db",
   "metadata": {},
   "outputs": [
    {
     "name": "stdout",
     "output_type": "stream",
     "text": [
      "0    arriba   baked winter squash mexican style\n",
      "1              a bit different  breakfast pizza\n",
      "2                     all in the kitchen  chili\n",
      "3                            alouette  potatoes\n",
      "4            amish  tomato ketchup  for canning\n",
      "Name: recipe_clean, dtype: object\n"
     ]
    }
   ],
   "source": [
    "# Replace all non letter characters with a whitespace\n",
    "recipes['recipe_clean'] = recipes['recipe'].str.replace('[^a-zA-Z]', ' ')\n",
    "\n",
    "#Change to lower case\n",
    "recipes['recipe_clean'] = recipes['recipe_clean'].str.lower()\n",
    "\n",
    "# Print the first 5 rows of the text_clean column\n",
    "print(recipes['recipe_clean'].head())"
   ]
  },
  {
   "cell_type": "code",
   "execution_count": 58,
   "id": "2918d003",
   "metadata": {},
   "outputs": [
    {
     "name": "stdout",
     "output_type": "stream",
     "text": [
      "   TFIDF_alfredo  TFIDF_almond  TFIDF_angel  TFIDF_apple  TFIDF_apples  \\\n",
      "0            0.0           0.0          0.0          0.0           0.0   \n",
      "1            0.0           0.0          0.0          0.0           0.0   \n",
      "\n",
      "   TFIDF_applesauce  TFIDF_apricot  TFIDF_artichoke  TFIDF_asian  \\\n",
      "0               0.0            0.0              0.0          0.0   \n",
      "1               0.0            0.0              0.0          0.0   \n",
      "\n",
      "   TFIDF_asparagus  ...  TFIDF_white  TFIDF_wild  TFIDF_wine  TFIDF_wings  \\\n",
      "0              0.0  ...          0.0         0.0         0.0          0.0   \n",
      "1              0.0  ...          0.0         0.0         0.0          0.0   \n",
      "\n",
      "   TFIDF_wraps  TFIDF_ww  TFIDF_yellow  TFIDF_yogurt  TFIDF_yummy  \\\n",
      "0          0.0       0.0           0.0           0.0          0.0   \n",
      "1          0.0       0.0           0.0           0.0          0.0   \n",
      "\n",
      "   TFIDF_zucchini  \n",
      "0             0.0  \n",
      "1             0.0  \n",
      "\n",
      "[2 rows x 400 columns]\n"
     ]
    }
   ],
   "source": [
    "# Instantiate TfidfVectorizer\n",
    "tv = TfidfVectorizer(max_features=400, stop_words='english')\n",
    "\n",
    "# Fit the vectroizer and transform the data\n",
    "# split with .fit() and .transform()\n",
    "tv_transformed = tv.fit_transform(recipes['recipe_clean'])\n",
    "\n",
    "# Create a DataFrame with these features\n",
    "tv_recipe_names = pd.DataFrame(tv_transformed.toarray(), \n",
    "                     columns=tv.get_feature_names_out()).add_prefix('TFIDF_')\n",
    "print(tv_recipe_names.head(2))"
   ]
  },
  {
   "cell_type": "code",
   "execution_count": 60,
   "id": "9408f006",
   "metadata": {},
   "outputs": [],
   "source": [
    "title_word_frequency = tv_recipe_names.sum().sort_values(ascending=False)"
   ]
  },
  {
   "cell_type": "markdown",
   "id": "cbc14cd6",
   "metadata": {},
   "source": [
    "### TFIDF on Reviews"
   ]
  },
  {
   "cell_type": "code",
   "execution_count": 61,
   "id": "022ad52e",
   "metadata": {},
   "outputs": [
    {
     "data": {
      "text/html": [
       "<div>\n",
       "<style scoped>\n",
       "    .dataframe tbody tr th:only-of-type {\n",
       "        vertical-align: middle;\n",
       "    }\n",
       "\n",
       "    .dataframe tbody tr th {\n",
       "        vertical-align: top;\n",
       "    }\n",
       "\n",
       "    .dataframe thead th {\n",
       "        text-align: right;\n",
       "    }\n",
       "</style>\n",
       "<table border=\"1\" class=\"dataframe\">\n",
       "  <thead>\n",
       "    <tr style=\"text-align: right;\">\n",
       "      <th></th>\n",
       "      <th>user_id</th>\n",
       "      <th>recipe_id</th>\n",
       "      <th>date</th>\n",
       "      <th>rating</th>\n",
       "      <th>word_count</th>\n",
       "      <th>review_clean</th>\n",
       "    </tr>\n",
       "  </thead>\n",
       "  <tbody>\n",
       "    <tr>\n",
       "      <th>0</th>\n",
       "      <td>38094</td>\n",
       "      <td>40893</td>\n",
       "      <td>2003-02-17</td>\n",
       "      <td>4</td>\n",
       "      <td>27</td>\n",
       "      <td>great with a salad. cooked on top of stove for...</td>\n",
       "    </tr>\n",
       "    <tr>\n",
       "      <th>1</th>\n",
       "      <td>1293707</td>\n",
       "      <td>40893</td>\n",
       "      <td>2011-12-21</td>\n",
       "      <td>5</td>\n",
       "      <td>31</td>\n",
       "      <td>so simple, so delicious! great for chilly fall...</td>\n",
       "    </tr>\n",
       "    <tr>\n",
       "      <th>2</th>\n",
       "      <td>8937</td>\n",
       "      <td>44394</td>\n",
       "      <td>2002-12-01</td>\n",
       "      <td>4</td>\n",
       "      <td>19</td>\n",
       "      <td>this worked very well and is easy.  i used not...</td>\n",
       "    </tr>\n",
       "    <tr>\n",
       "      <th>3</th>\n",
       "      <td>126440</td>\n",
       "      <td>85009</td>\n",
       "      <td>2010-02-27</td>\n",
       "      <td>5</td>\n",
       "      <td>13</td>\n",
       "      <td>i made the mexican topping and took it to bunk...</td>\n",
       "    </tr>\n",
       "    <tr>\n",
       "      <th>4</th>\n",
       "      <td>57222</td>\n",
       "      <td>85009</td>\n",
       "      <td>2011-10-01</td>\n",
       "      <td>5</td>\n",
       "      <td>12</td>\n",
       "      <td>made the cheddar bacon topping, adding a sprin...</td>\n",
       "    </tr>\n",
       "  </tbody>\n",
       "</table>\n",
       "</div>"
      ],
      "text/plain": [
       "   user_id  recipe_id        date  rating  word_count  \\\n",
       "0    38094      40893  2003-02-17       4          27   \n",
       "1  1293707      40893  2011-12-21       5          31   \n",
       "2     8937      44394  2002-12-01       4          19   \n",
       "3   126440      85009  2010-02-27       5          13   \n",
       "4    57222      85009  2011-10-01       5          12   \n",
       "\n",
       "                                        review_clean  \n",
       "0  great with a salad. cooked on top of stove for...  \n",
       "1  so simple, so delicious! great for chilly fall...  \n",
       "2  this worked very well and is easy.  i used not...  \n",
       "3  i made the mexican topping and took it to bunk...  \n",
       "4  made the cheddar bacon topping, adding a sprin...  "
      ]
     },
     "execution_count": 61,
     "metadata": {},
     "output_type": "execute_result"
    }
   ],
   "source": [
    "#interactions['review']\n",
    "interactions.head()"
   ]
  },
  {
   "cell_type": "code",
   "execution_count": 62,
   "id": "e5ade154",
   "metadata": {},
   "outputs": [
    {
     "name": "stdout",
     "output_type": "stream",
     "text": [
      "   TFIDF_039  TFIDF_10  TFIDF_12  TFIDF_15  TFIDF_20  TFIDF_30  TFIDF_able  \\\n",
      "0        0.0       0.0       0.0  0.353267       0.0       0.0         0.0   \n",
      "1        0.0       0.0       0.0  0.000000       0.0       0.0         0.0   \n",
      "\n",
      "   TFIDF_absolutely  TFIDF_actually  TFIDF_add  ...  TFIDF_written  \\\n",
      "0               0.0             0.0        0.0  ...            0.0   \n",
      "1               0.0             0.0        0.0  ...            0.0   \n",
      "\n",
      "   TFIDF_wrong  TFIDF_year  TFIDF_years  TFIDF_yellow  TFIDF_yogurt  \\\n",
      "0          0.0         0.0          0.0           0.0           0.0   \n",
      "1          0.0         0.0          0.0           0.0           0.0   \n",
      "\n",
      "   TFIDF_yum  TFIDF_yummy  TFIDF_zaar  TFIDF_zucchini  \n",
      "0        0.0          0.0         0.0             0.0  \n",
      "1        0.0          0.0         0.0             0.0  \n",
      "\n",
      "[2 rows x 600 columns]\n"
     ]
    }
   ],
   "source": [
    "# Instantiate TfidfVectorizer\n",
    "tv = TfidfVectorizer(max_features=600, stop_words='english')\n",
    "\n",
    "# Fit the vectroizer and transform the data\n",
    "# split with .fit() and .transform()\n",
    "tv_transformed = tv.fit_transform(interactions['review_clean'])\n",
    "\n",
    "# Create a DataFrame with these features\n",
    "tv_reviews = pd.DataFrame(tv_transformed.toarray(), \n",
    "                     columns=tv.get_feature_names_out()).add_prefix('TFIDF_')\n",
    "print(tv_reviews.head(2))"
   ]
  },
  {
   "cell_type": "code",
   "execution_count": 63,
   "id": "dc2e11b9",
   "metadata": {},
   "outputs": [],
   "source": [
    "review_word_frequency = tv_reviews.sum().sort_values(ascending=False)"
   ]
  },
  {
   "cell_type": "code",
   "execution_count": 64,
   "id": "f40b8f75",
   "metadata": {},
   "outputs": [
    {
     "data": {
      "text/plain": [
       "TFIDF_recipe     68964.561556\n",
       "TFIDF_thanks     47138.922346\n",
       "TFIDF_used       46582.038343\n",
       "TFIDF_good       46566.897430\n",
       "TFIDF_great      45923.824496\n",
       "                     ...     \n",
       "TFIDF_step        2121.489910\n",
       "TFIDF_started     2030.695626\n",
       "TFIDF_lt          2008.821189\n",
       "TFIDF_foil        2005.044858\n",
       "TFIDF_gt          1987.406286\n",
       "Length: 600, dtype: float64"
      ]
     },
     "execution_count": 64,
     "metadata": {},
     "output_type": "execute_result"
    }
   ],
   "source": [
    "review_word_frequency"
   ]
  },
  {
   "cell_type": "markdown",
   "id": "0ae78e7c",
   "metadata": {},
   "source": [
    "## Scaling"
   ]
  },
  {
   "cell_type": "markdown",
   "id": "9752fa10",
   "metadata": {},
   "source": [
    "Dont need to scale the data for collaborative filtering"
   ]
  },
  {
   "cell_type": "code",
   "execution_count": 41,
   "id": "44cb083c",
   "metadata": {},
   "outputs": [],
   "source": [
    "# Making a Scaler object\n",
    "# scaler = preprocessing.StandardScaler()\n",
    "# Fitting data to the scaler object\n",
    "# scaled_df = scaler.fit_transform(df)\n",
    "# scaled_df = pd.DataFrame(scaled_df, columns=names)"
   ]
  },
  {
   "cell_type": "markdown",
   "id": "44c43465",
   "metadata": {},
   "source": [
    "## Split Train & Test Datasets"
   ]
  },
  {
   "cell_type": "markdown",
   "id": "db3ce390",
   "metadata": {},
   "source": [
    "Dont need to split the data for collaborative filtering"
   ]
  },
  {
   "cell_type": "code",
   "execution_count": 42,
   "id": "d9ada064",
   "metadata": {},
   "outputs": [],
   "source": [
    "# X_train, X_test, y_train, y_test = train_test_split(X, y, test_size=0.3, random_state=0)"
   ]
  },
  {
   "cell_type": "markdown",
   "id": "9e7951c9",
   "metadata": {},
   "source": [
    "## Prepare a cohesive dataset for collaborative filtering.\n",
    "This essentially only needs recipe IDs and users ratings on recipes"
   ]
  },
  {
   "cell_type": "code",
   "execution_count": 76,
   "id": "2a4cff1f",
   "metadata": {},
   "outputs": [
    {
     "data": {
      "text/plain": [
       "Index(['user_id', 'recipe_id', 'date', 'rating', 'word_count', 'review_clean'], dtype='object')"
      ]
     },
     "execution_count": 76,
     "metadata": {},
     "output_type": "execute_result"
    }
   ],
   "source": [
    "interactions.columns"
   ]
  },
  {
   "cell_type": "code",
   "execution_count": 77,
   "id": "dd70cf5f",
   "metadata": {},
   "outputs": [],
   "source": [
    "cf = interactions.drop(columns = ['date', 'word_count', 'review_clean'] )"
   ]
  },
  {
   "cell_type": "code",
   "execution_count": 78,
   "id": "fe10021d",
   "metadata": {},
   "outputs": [
    {
     "data": {
      "text/html": [
       "<div>\n",
       "<style scoped>\n",
       "    .dataframe tbody tr th:only-of-type {\n",
       "        vertical-align: middle;\n",
       "    }\n",
       "\n",
       "    .dataframe tbody tr th {\n",
       "        vertical-align: top;\n",
       "    }\n",
       "\n",
       "    .dataframe thead th {\n",
       "        text-align: right;\n",
       "    }\n",
       "</style>\n",
       "<table border=\"1\" class=\"dataframe\">\n",
       "  <thead>\n",
       "    <tr style=\"text-align: right;\">\n",
       "      <th></th>\n",
       "      <th>user_id</th>\n",
       "      <th>recipe_id</th>\n",
       "      <th>rating</th>\n",
       "    </tr>\n",
       "  </thead>\n",
       "  <tbody>\n",
       "    <tr>\n",
       "      <th>0</th>\n",
       "      <td>38094</td>\n",
       "      <td>40893</td>\n",
       "      <td>4</td>\n",
       "    </tr>\n",
       "    <tr>\n",
       "      <th>1</th>\n",
       "      <td>1293707</td>\n",
       "      <td>40893</td>\n",
       "      <td>5</td>\n",
       "    </tr>\n",
       "    <tr>\n",
       "      <th>2</th>\n",
       "      <td>8937</td>\n",
       "      <td>44394</td>\n",
       "      <td>4</td>\n",
       "    </tr>\n",
       "    <tr>\n",
       "      <th>3</th>\n",
       "      <td>126440</td>\n",
       "      <td>85009</td>\n",
       "      <td>5</td>\n",
       "    </tr>\n",
       "    <tr>\n",
       "      <th>4</th>\n",
       "      <td>57222</td>\n",
       "      <td>85009</td>\n",
       "      <td>5</td>\n",
       "    </tr>\n",
       "  </tbody>\n",
       "</table>\n",
       "</div>"
      ],
      "text/plain": [
       "   user_id  recipe_id  rating\n",
       "0    38094      40893       4\n",
       "1  1293707      40893       5\n",
       "2     8937      44394       4\n",
       "3   126440      85009       5\n",
       "4    57222      85009       5"
      ]
     },
     "execution_count": 78,
     "metadata": {},
     "output_type": "execute_result"
    }
   ],
   "source": [
    "cf.head()"
   ]
  },
  {
   "cell_type": "code",
   "execution_count": 96,
   "id": "235ae52c",
   "metadata": {},
   "outputs": [],
   "source": [
    "cf.to_csv('user_collaborative_filtering.csv')"
   ]
  }
 ],
 "metadata": {
  "kernelspec": {
   "display_name": "Python 3 (ipykernel)",
   "language": "python",
   "name": "python3"
  },
  "language_info": {
   "codemirror_mode": {
    "name": "ipython",
    "version": 3
   },
   "file_extension": ".py",
   "mimetype": "text/x-python",
   "name": "python",
   "nbconvert_exporter": "python",
   "pygments_lexer": "ipython3",
   "version": "3.11.5"
  }
 },
 "nbformat": 4,
 "nbformat_minor": 5
}
