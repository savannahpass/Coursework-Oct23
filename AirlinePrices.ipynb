{
 "cells": [
  {
   "cell_type": "markdown",
   "id": "464d0701",
   "metadata": {},
   "source": [
    "## Data Story Telling Exercise\n",
    "\n",
    "#### Instructions:\n",
    "1. Select a dataset\n",
    "2. Pick your audience: executive, technical, or non-technical; and adjust your tone accordingly.\n",
    "3. Take a look at the data: explore it.\n",
    "4. Think of a narrative, and pursue it.\n",
    "5. Give a 15 mins presentation to your mentor.\n",
    "\n",
    "#### Deliverables\n",
    "1. The questions you asked\n",
    "2. The trends you investigated\n",
    "3. The resulting visualizations and conclusions"
   ]
  },
  {
   "cell_type": "markdown",
   "id": "087562b0",
   "metadata": {},
   "source": [
    "### Introduction\n",
    "\n",
    "*The dataset below details includes airline prices in 2019 in South Asia* \n",
    "\n",
    "#### Question\n",
    "\n",
    "1. Is there a proportional relationship between flight duration and flight prices? Assuming duration can represent distance here since it is not given (could be calculated)\n",
    "\n",
    "##### Bonus:\n",
    "2. Do flight prices fluctuate together? i.e. do all flights get more expensive or just certain legs at a time?"
   ]
  },
  {
   "cell_type": "code",
   "execution_count": 1,
   "id": "4bf9f23b",
   "metadata": {},
   "outputs": [],
   "source": [
    "import matplotlib.pyplot as plt\n",
    "import numpy as np\n",
    "import pandas as pd\n",
    "import seaborn as sns\n",
    "sns.set()"
   ]
  },
  {
   "cell_type": "code",
   "execution_count": 2,
   "id": "90d13133",
   "metadata": {},
   "outputs": [],
   "source": [
    "import warnings\n",
    "warnings.filterwarnings('ignore')"
   ]
  },
  {
   "cell_type": "markdown",
   "id": "26ed60ad",
   "metadata": {},
   "source": [
    "### Airline Prices"
   ]
  },
  {
   "cell_type": "code",
   "execution_count": 3,
   "id": "d21fbc91",
   "metadata": {},
   "outputs": [],
   "source": [
    "df = pd.read_csv('data/flight_dataset.csv')"
   ]
  },
  {
   "cell_type": "code",
   "execution_count": 4,
   "id": "bc251e43",
   "metadata": {},
   "outputs": [
    {
     "data": {
      "text/html": [
       "<div>\n",
       "<style scoped>\n",
       "    .dataframe tbody tr th:only-of-type {\n",
       "        vertical-align: middle;\n",
       "    }\n",
       "\n",
       "    .dataframe tbody tr th {\n",
       "        vertical-align: top;\n",
       "    }\n",
       "\n",
       "    .dataframe thead th {\n",
       "        text-align: right;\n",
       "    }\n",
       "</style>\n",
       "<table border=\"1\" class=\"dataframe\">\n",
       "  <thead>\n",
       "    <tr style=\"text-align: right;\">\n",
       "      <th></th>\n",
       "      <th>Airline</th>\n",
       "      <th>Source</th>\n",
       "      <th>Destination</th>\n",
       "      <th>Total_Stops</th>\n",
       "      <th>Price</th>\n",
       "      <th>Date</th>\n",
       "      <th>Month</th>\n",
       "      <th>Year</th>\n",
       "      <th>Dep_hours</th>\n",
       "      <th>Dep_min</th>\n",
       "      <th>Arrival_hours</th>\n",
       "      <th>Arrival_min</th>\n",
       "      <th>Duration_hours</th>\n",
       "      <th>Duration_min</th>\n",
       "    </tr>\n",
       "  </thead>\n",
       "  <tbody>\n",
       "    <tr>\n",
       "      <th>0</th>\n",
       "      <td>IndiGo</td>\n",
       "      <td>Banglore</td>\n",
       "      <td>New Delhi</td>\n",
       "      <td>0</td>\n",
       "      <td>3897</td>\n",
       "      <td>24</td>\n",
       "      <td>3</td>\n",
       "      <td>2019</td>\n",
       "      <td>22</td>\n",
       "      <td>20</td>\n",
       "      <td>1</td>\n",
       "      <td>10</td>\n",
       "      <td>2</td>\n",
       "      <td>50</td>\n",
       "    </tr>\n",
       "    <tr>\n",
       "      <th>1</th>\n",
       "      <td>Air India</td>\n",
       "      <td>Kolkata</td>\n",
       "      <td>Banglore</td>\n",
       "      <td>2</td>\n",
       "      <td>7662</td>\n",
       "      <td>1</td>\n",
       "      <td>5</td>\n",
       "      <td>2019</td>\n",
       "      <td>5</td>\n",
       "      <td>50</td>\n",
       "      <td>13</td>\n",
       "      <td>15</td>\n",
       "      <td>7</td>\n",
       "      <td>25</td>\n",
       "    </tr>\n",
       "    <tr>\n",
       "      <th>2</th>\n",
       "      <td>Jet Airways</td>\n",
       "      <td>Delhi</td>\n",
       "      <td>Cochin</td>\n",
       "      <td>2</td>\n",
       "      <td>13882</td>\n",
       "      <td>9</td>\n",
       "      <td>6</td>\n",
       "      <td>2019</td>\n",
       "      <td>9</td>\n",
       "      <td>25</td>\n",
       "      <td>4</td>\n",
       "      <td>25</td>\n",
       "      <td>19</td>\n",
       "      <td>0</td>\n",
       "    </tr>\n",
       "    <tr>\n",
       "      <th>3</th>\n",
       "      <td>IndiGo</td>\n",
       "      <td>Kolkata</td>\n",
       "      <td>Banglore</td>\n",
       "      <td>1</td>\n",
       "      <td>6218</td>\n",
       "      <td>12</td>\n",
       "      <td>5</td>\n",
       "      <td>2019</td>\n",
       "      <td>18</td>\n",
       "      <td>5</td>\n",
       "      <td>23</td>\n",
       "      <td>30</td>\n",
       "      <td>5</td>\n",
       "      <td>25</td>\n",
       "    </tr>\n",
       "    <tr>\n",
       "      <th>4</th>\n",
       "      <td>IndiGo</td>\n",
       "      <td>Banglore</td>\n",
       "      <td>New Delhi</td>\n",
       "      <td>1</td>\n",
       "      <td>13302</td>\n",
       "      <td>1</td>\n",
       "      <td>3</td>\n",
       "      <td>2019</td>\n",
       "      <td>16</td>\n",
       "      <td>50</td>\n",
       "      <td>21</td>\n",
       "      <td>35</td>\n",
       "      <td>4</td>\n",
       "      <td>45</td>\n",
       "    </tr>\n",
       "  </tbody>\n",
       "</table>\n",
       "</div>"
      ],
      "text/plain": [
       "       Airline    Source Destination  Total_Stops  Price  Date  Month  Year  \\\n",
       "0       IndiGo  Banglore   New Delhi            0   3897    24      3  2019   \n",
       "1    Air India   Kolkata    Banglore            2   7662     1      5  2019   \n",
       "2  Jet Airways     Delhi      Cochin            2  13882     9      6  2019   \n",
       "3       IndiGo   Kolkata    Banglore            1   6218    12      5  2019   \n",
       "4       IndiGo  Banglore   New Delhi            1  13302     1      3  2019   \n",
       "\n",
       "   Dep_hours  Dep_min  Arrival_hours  Arrival_min  Duration_hours  \\\n",
       "0         22       20              1           10               2   \n",
       "1          5       50             13           15               7   \n",
       "2          9       25              4           25              19   \n",
       "3         18        5             23           30               5   \n",
       "4         16       50             21           35               4   \n",
       "\n",
       "   Duration_min  \n",
       "0            50  \n",
       "1            25  \n",
       "2             0  \n",
       "3            25  \n",
       "4            45  "
      ]
     },
     "execution_count": 4,
     "metadata": {},
     "output_type": "execute_result"
    }
   ],
   "source": [
    "df.head()"
   ]
  },
  {
   "cell_type": "code",
   "execution_count": 5,
   "id": "c5bded6a",
   "metadata": {},
   "outputs": [
    {
     "data": {
      "text/plain": [
       "(10683, 14)"
      ]
     },
     "execution_count": 5,
     "metadata": {},
     "output_type": "execute_result"
    }
   ],
   "source": [
    "df.shape"
   ]
  },
  {
   "cell_type": "code",
   "execution_count": 6,
   "id": "1a5552a7",
   "metadata": {},
   "outputs": [
    {
     "data": {
      "text/plain": [
       "Airline           0\n",
       "Source            0\n",
       "Destination       0\n",
       "Total_Stops       0\n",
       "Price             0\n",
       "Date              0\n",
       "Month             0\n",
       "Year              0\n",
       "Dep_hours         0\n",
       "Dep_min           0\n",
       "Arrival_hours     0\n",
       "Arrival_min       0\n",
       "Duration_hours    0\n",
       "Duration_min      0\n",
       "dtype: int64"
      ]
     },
     "execution_count": 6,
     "metadata": {},
     "output_type": "execute_result"
    }
   ],
   "source": [
    "df.isnull().sum()"
   ]
  },
  {
   "cell_type": "markdown",
   "id": "95b94dd1",
   "metadata": {},
   "source": [
    "*nice*"
   ]
  },
  {
   "cell_type": "code",
   "execution_count": 7,
   "id": "fa7f33f0",
   "metadata": {},
   "outputs": [],
   "source": [
    "cols = ['Airline', 'Source', 'Destination', 'Total_Stops', 'Price', 'Date',\n",
    "       'Month', 'Year', 'Dep_hours', 'Dep_min', 'Arrival_hours', 'Arrival_min',\n",
    "       'Duration_hours', 'Duration_min']\n",
    "\n",
    "df.columns = [col.lower() for col in cols]"
   ]
  },
  {
   "cell_type": "code",
   "execution_count": 8,
   "id": "39fdb722",
   "metadata": {},
   "outputs": [
    {
     "data": {
      "text/html": [
       "<div>\n",
       "<style scoped>\n",
       "    .dataframe tbody tr th:only-of-type {\n",
       "        vertical-align: middle;\n",
       "    }\n",
       "\n",
       "    .dataframe tbody tr th {\n",
       "        vertical-align: top;\n",
       "    }\n",
       "\n",
       "    .dataframe thead th {\n",
       "        text-align: right;\n",
       "    }\n",
       "</style>\n",
       "<table border=\"1\" class=\"dataframe\">\n",
       "  <thead>\n",
       "    <tr style=\"text-align: right;\">\n",
       "      <th></th>\n",
       "      <th>total_stops</th>\n",
       "      <th>price</th>\n",
       "      <th>date</th>\n",
       "      <th>month</th>\n",
       "      <th>year</th>\n",
       "      <th>dep_hours</th>\n",
       "      <th>dep_min</th>\n",
       "      <th>arrival_hours</th>\n",
       "      <th>arrival_min</th>\n",
       "      <th>duration_hours</th>\n",
       "      <th>duration_min</th>\n",
       "    </tr>\n",
       "  </thead>\n",
       "  <tbody>\n",
       "    <tr>\n",
       "      <th>count</th>\n",
       "      <td>10683.000000</td>\n",
       "      <td>10683.000000</td>\n",
       "      <td>10683.000000</td>\n",
       "      <td>10683.000000</td>\n",
       "      <td>10683.0</td>\n",
       "      <td>10683.000000</td>\n",
       "      <td>10683.000000</td>\n",
       "      <td>10683.000000</td>\n",
       "      <td>10683.000000</td>\n",
       "      <td>10683.000000</td>\n",
       "      <td>10683.000000</td>\n",
       "    </tr>\n",
       "    <tr>\n",
       "      <th>mean</th>\n",
       "      <td>0.824207</td>\n",
       "      <td>9087.064121</td>\n",
       "      <td>13.508378</td>\n",
       "      <td>4.708602</td>\n",
       "      <td>2019.0</td>\n",
       "      <td>12.490686</td>\n",
       "      <td>24.411214</td>\n",
       "      <td>13.348778</td>\n",
       "      <td>24.690630</td>\n",
       "      <td>10.246560</td>\n",
       "      <td>28.327249</td>\n",
       "    </tr>\n",
       "    <tr>\n",
       "      <th>std</th>\n",
       "      <td>0.675199</td>\n",
       "      <td>4611.359167</td>\n",
       "      <td>8.479277</td>\n",
       "      <td>1.164357</td>\n",
       "      <td>0.0</td>\n",
       "      <td>5.748650</td>\n",
       "      <td>18.767980</td>\n",
       "      <td>6.859125</td>\n",
       "      <td>16.506036</td>\n",
       "      <td>8.494988</td>\n",
       "      <td>16.946113</td>\n",
       "    </tr>\n",
       "    <tr>\n",
       "      <th>min</th>\n",
       "      <td>0.000000</td>\n",
       "      <td>1759.000000</td>\n",
       "      <td>1.000000</td>\n",
       "      <td>3.000000</td>\n",
       "      <td>2019.0</td>\n",
       "      <td>0.000000</td>\n",
       "      <td>0.000000</td>\n",
       "      <td>0.000000</td>\n",
       "      <td>0.000000</td>\n",
       "      <td>1.000000</td>\n",
       "      <td>0.000000</td>\n",
       "    </tr>\n",
       "    <tr>\n",
       "      <th>25%</th>\n",
       "      <td>0.000000</td>\n",
       "      <td>5277.000000</td>\n",
       "      <td>6.000000</td>\n",
       "      <td>3.000000</td>\n",
       "      <td>2019.0</td>\n",
       "      <td>8.000000</td>\n",
       "      <td>5.000000</td>\n",
       "      <td>8.000000</td>\n",
       "      <td>10.000000</td>\n",
       "      <td>2.000000</td>\n",
       "      <td>15.000000</td>\n",
       "    </tr>\n",
       "    <tr>\n",
       "      <th>50%</th>\n",
       "      <td>1.000000</td>\n",
       "      <td>8372.000000</td>\n",
       "      <td>12.000000</td>\n",
       "      <td>5.000000</td>\n",
       "      <td>2019.0</td>\n",
       "      <td>11.000000</td>\n",
       "      <td>25.000000</td>\n",
       "      <td>14.000000</td>\n",
       "      <td>25.000000</td>\n",
       "      <td>8.000000</td>\n",
       "      <td>30.000000</td>\n",
       "    </tr>\n",
       "    <tr>\n",
       "      <th>75%</th>\n",
       "      <td>1.000000</td>\n",
       "      <td>12373.000000</td>\n",
       "      <td>21.000000</td>\n",
       "      <td>6.000000</td>\n",
       "      <td>2019.0</td>\n",
       "      <td>18.000000</td>\n",
       "      <td>40.000000</td>\n",
       "      <td>19.000000</td>\n",
       "      <td>35.000000</td>\n",
       "      <td>15.000000</td>\n",
       "      <td>45.000000</td>\n",
       "    </tr>\n",
       "    <tr>\n",
       "      <th>max</th>\n",
       "      <td>4.000000</td>\n",
       "      <td>79512.000000</td>\n",
       "      <td>27.000000</td>\n",
       "      <td>6.000000</td>\n",
       "      <td>2019.0</td>\n",
       "      <td>23.000000</td>\n",
       "      <td>55.000000</td>\n",
       "      <td>23.000000</td>\n",
       "      <td>55.000000</td>\n",
       "      <td>47.000000</td>\n",
       "      <td>55.000000</td>\n",
       "    </tr>\n",
       "  </tbody>\n",
       "</table>\n",
       "</div>"
      ],
      "text/plain": [
       "        total_stops         price          date         month     year  \\\n",
       "count  10683.000000  10683.000000  10683.000000  10683.000000  10683.0   \n",
       "mean       0.824207   9087.064121     13.508378      4.708602   2019.0   \n",
       "std        0.675199   4611.359167      8.479277      1.164357      0.0   \n",
       "min        0.000000   1759.000000      1.000000      3.000000   2019.0   \n",
       "25%        0.000000   5277.000000      6.000000      3.000000   2019.0   \n",
       "50%        1.000000   8372.000000     12.000000      5.000000   2019.0   \n",
       "75%        1.000000  12373.000000     21.000000      6.000000   2019.0   \n",
       "max        4.000000  79512.000000     27.000000      6.000000   2019.0   \n",
       "\n",
       "          dep_hours       dep_min  arrival_hours   arrival_min  \\\n",
       "count  10683.000000  10683.000000   10683.000000  10683.000000   \n",
       "mean      12.490686     24.411214      13.348778     24.690630   \n",
       "std        5.748650     18.767980       6.859125     16.506036   \n",
       "min        0.000000      0.000000       0.000000      0.000000   \n",
       "25%        8.000000      5.000000       8.000000     10.000000   \n",
       "50%       11.000000     25.000000      14.000000     25.000000   \n",
       "75%       18.000000     40.000000      19.000000     35.000000   \n",
       "max       23.000000     55.000000      23.000000     55.000000   \n",
       "\n",
       "       duration_hours  duration_min  \n",
       "count    10683.000000  10683.000000  \n",
       "mean        10.246560     28.327249  \n",
       "std          8.494988     16.946113  \n",
       "min          1.000000      0.000000  \n",
       "25%          2.000000     15.000000  \n",
       "50%          8.000000     30.000000  \n",
       "75%         15.000000     45.000000  \n",
       "max         47.000000     55.000000  "
      ]
     },
     "execution_count": 8,
     "metadata": {},
     "output_type": "execute_result"
    }
   ],
   "source": [
    "df.describe()"
   ]
  },
  {
   "cell_type": "code",
   "execution_count": 9,
   "id": "26783a55",
   "metadata": {},
   "outputs": [
    {
     "data": {
      "text/plain": [
       "airline\n",
       "Trujet                                4140.000000\n",
       "SpiceJet                              4338.284841\n",
       "Air Asia                              5590.260188\n",
       "IndiGo                                5673.682903\n",
       "GoAir                                 5861.056701\n",
       "Vistara                               7796.348643\n",
       "Vistara Premium economy               8962.333333\n",
       "Air India                             9611.210616\n",
       "Multiple carriers                    10902.678094\n",
       "Multiple carriers Premium economy    11418.846154\n",
       "Jet Airways                          11643.923357\n",
       "Jet Airways Business                 58358.666667\n",
       "Name: price, dtype: float64"
      ]
     },
     "execution_count": 9,
     "metadata": {},
     "output_type": "execute_result"
    }
   ],
   "source": [
    "df.groupby('airline')['price'].mean().sort_values()"
   ]
  },
  {
   "cell_type": "code",
   "execution_count": 10,
   "id": "5fbeca55",
   "metadata": {},
   "outputs": [
    {
     "data": {
      "text/plain": [
       "array(['IndiGo', 'Air India', 'Jet Airways', 'SpiceJet',\n",
       "       'Multiple carriers', 'GoAir', 'Vistara', 'Air Asia',\n",
       "       'Vistara Premium economy', 'Jet Airways Business',\n",
       "       'Multiple carriers Premium economy', 'Trujet'], dtype=object)"
      ]
     },
     "execution_count": 10,
     "metadata": {},
     "output_type": "execute_result"
    }
   ],
   "source": [
    "df.airline.unique()"
   ]
  },
  {
   "cell_type": "code",
   "execution_count": 11,
   "id": "8c26a9ce",
   "metadata": {},
   "outputs": [
    {
     "data": {
      "text/plain": [
       "array(['Banglore', 'Kolkata', 'Delhi', 'Chennai', 'Mumbai'], dtype=object)"
      ]
     },
     "execution_count": 11,
     "metadata": {},
     "output_type": "execute_result"
    }
   ],
   "source": [
    "df.source.unique()"
   ]
  },
  {
   "cell_type": "code",
   "execution_count": 12,
   "id": "fbf8fd49",
   "metadata": {},
   "outputs": [
    {
     "data": {
      "text/plain": [
       "array(['New Delhi', 'Banglore', 'Cochin', 'Kolkata', 'Delhi', 'Hyderabad'],\n",
       "      dtype=object)"
      ]
     },
     "execution_count": 12,
     "metadata": {},
     "output_type": "execute_result"
    }
   ],
   "source": [
    "df.destination.unique()"
   ]
  },
  {
   "cell_type": "markdown",
   "id": "5363f892",
   "metadata": {},
   "source": [
    "#### Convert Duration and Date"
   ]
  },
  {
   "cell_type": "code",
   "execution_count": 13,
   "id": "7e306d0c",
   "metadata": {},
   "outputs": [],
   "source": [
    "df['duration_total'] = df['duration_hours']*60 + df['duration_min']"
   ]
  },
  {
   "cell_type": "code",
   "execution_count": 14,
   "id": "17dc84f1",
   "metadata": {},
   "outputs": [
    {
     "data": {
      "text/html": [
       "<div>\n",
       "<style scoped>\n",
       "    .dataframe tbody tr th:only-of-type {\n",
       "        vertical-align: middle;\n",
       "    }\n",
       "\n",
       "    .dataframe tbody tr th {\n",
       "        vertical-align: top;\n",
       "    }\n",
       "\n",
       "    .dataframe thead th {\n",
       "        text-align: right;\n",
       "    }\n",
       "</style>\n",
       "<table border=\"1\" class=\"dataframe\">\n",
       "  <thead>\n",
       "    <tr style=\"text-align: right;\">\n",
       "      <th></th>\n",
       "      <th>airline</th>\n",
       "      <th>source</th>\n",
       "      <th>destination</th>\n",
       "      <th>total_stops</th>\n",
       "      <th>price</th>\n",
       "      <th>date</th>\n",
       "      <th>month</th>\n",
       "      <th>year</th>\n",
       "      <th>dep_hours</th>\n",
       "      <th>dep_min</th>\n",
       "      <th>arrival_hours</th>\n",
       "      <th>arrival_min</th>\n",
       "      <th>duration_hours</th>\n",
       "      <th>duration_min</th>\n",
       "      <th>duration_total</th>\n",
       "    </tr>\n",
       "  </thead>\n",
       "  <tbody>\n",
       "    <tr>\n",
       "      <th>0</th>\n",
       "      <td>IndiGo</td>\n",
       "      <td>Banglore</td>\n",
       "      <td>New Delhi</td>\n",
       "      <td>0</td>\n",
       "      <td>3897</td>\n",
       "      <td>24</td>\n",
       "      <td>3</td>\n",
       "      <td>2019</td>\n",
       "      <td>22</td>\n",
       "      <td>20</td>\n",
       "      <td>1</td>\n",
       "      <td>10</td>\n",
       "      <td>2</td>\n",
       "      <td>50</td>\n",
       "      <td>170</td>\n",
       "    </tr>\n",
       "    <tr>\n",
       "      <th>1</th>\n",
       "      <td>Air India</td>\n",
       "      <td>Kolkata</td>\n",
       "      <td>Banglore</td>\n",
       "      <td>2</td>\n",
       "      <td>7662</td>\n",
       "      <td>1</td>\n",
       "      <td>5</td>\n",
       "      <td>2019</td>\n",
       "      <td>5</td>\n",
       "      <td>50</td>\n",
       "      <td>13</td>\n",
       "      <td>15</td>\n",
       "      <td>7</td>\n",
       "      <td>25</td>\n",
       "      <td>445</td>\n",
       "    </tr>\n",
       "  </tbody>\n",
       "</table>\n",
       "</div>"
      ],
      "text/plain": [
       "     airline    source destination  total_stops  price  date  month  year  \\\n",
       "0     IndiGo  Banglore   New Delhi            0   3897    24      3  2019   \n",
       "1  Air India   Kolkata    Banglore            2   7662     1      5  2019   \n",
       "\n",
       "   dep_hours  dep_min  arrival_hours  arrival_min  duration_hours  \\\n",
       "0         22       20              1           10               2   \n",
       "1          5       50             13           15               7   \n",
       "\n",
       "   duration_min  duration_total  \n",
       "0            50             170  \n",
       "1            25             445  "
      ]
     },
     "execution_count": 14,
     "metadata": {},
     "output_type": "execute_result"
    }
   ],
   "source": [
    "df.head(2)"
   ]
  },
  {
   "cell_type": "code",
   "execution_count": 15,
   "id": "ef3ab00b",
   "metadata": {},
   "outputs": [],
   "source": [
    "df.drop(columns=['duration_hours','duration_min'], inplace=True)"
   ]
  },
  {
   "cell_type": "code",
   "execution_count": 16,
   "id": "a95fc2a1",
   "metadata": {},
   "outputs": [
    {
     "data": {
      "text/html": [
       "<div>\n",
       "<style scoped>\n",
       "    .dataframe tbody tr th:only-of-type {\n",
       "        vertical-align: middle;\n",
       "    }\n",
       "\n",
       "    .dataframe tbody tr th {\n",
       "        vertical-align: top;\n",
       "    }\n",
       "\n",
       "    .dataframe thead th {\n",
       "        text-align: right;\n",
       "    }\n",
       "</style>\n",
       "<table border=\"1\" class=\"dataframe\">\n",
       "  <thead>\n",
       "    <tr style=\"text-align: right;\">\n",
       "      <th></th>\n",
       "      <th>airline</th>\n",
       "      <th>source</th>\n",
       "      <th>destination</th>\n",
       "      <th>total_stops</th>\n",
       "      <th>price</th>\n",
       "      <th>date</th>\n",
       "      <th>month</th>\n",
       "      <th>year</th>\n",
       "      <th>dep_hours</th>\n",
       "      <th>dep_min</th>\n",
       "      <th>arrival_hours</th>\n",
       "      <th>arrival_min</th>\n",
       "      <th>duration_total</th>\n",
       "    </tr>\n",
       "  </thead>\n",
       "  <tbody>\n",
       "    <tr>\n",
       "      <th>0</th>\n",
       "      <td>IndiGo</td>\n",
       "      <td>Banglore</td>\n",
       "      <td>New Delhi</td>\n",
       "      <td>0</td>\n",
       "      <td>3897</td>\n",
       "      <td>24</td>\n",
       "      <td>3</td>\n",
       "      <td>2019</td>\n",
       "      <td>22</td>\n",
       "      <td>20</td>\n",
       "      <td>1</td>\n",
       "      <td>10</td>\n",
       "      <td>170</td>\n",
       "    </tr>\n",
       "    <tr>\n",
       "      <th>1</th>\n",
       "      <td>Air India</td>\n",
       "      <td>Kolkata</td>\n",
       "      <td>Banglore</td>\n",
       "      <td>2</td>\n",
       "      <td>7662</td>\n",
       "      <td>1</td>\n",
       "      <td>5</td>\n",
       "      <td>2019</td>\n",
       "      <td>5</td>\n",
       "      <td>50</td>\n",
       "      <td>13</td>\n",
       "      <td>15</td>\n",
       "      <td>445</td>\n",
       "    </tr>\n",
       "    <tr>\n",
       "      <th>2</th>\n",
       "      <td>Jet Airways</td>\n",
       "      <td>Delhi</td>\n",
       "      <td>Cochin</td>\n",
       "      <td>2</td>\n",
       "      <td>13882</td>\n",
       "      <td>9</td>\n",
       "      <td>6</td>\n",
       "      <td>2019</td>\n",
       "      <td>9</td>\n",
       "      <td>25</td>\n",
       "      <td>4</td>\n",
       "      <td>25</td>\n",
       "      <td>1140</td>\n",
       "    </tr>\n",
       "    <tr>\n",
       "      <th>3</th>\n",
       "      <td>IndiGo</td>\n",
       "      <td>Kolkata</td>\n",
       "      <td>Banglore</td>\n",
       "      <td>1</td>\n",
       "      <td>6218</td>\n",
       "      <td>12</td>\n",
       "      <td>5</td>\n",
       "      <td>2019</td>\n",
       "      <td>18</td>\n",
       "      <td>5</td>\n",
       "      <td>23</td>\n",
       "      <td>30</td>\n",
       "      <td>325</td>\n",
       "    </tr>\n",
       "    <tr>\n",
       "      <th>4</th>\n",
       "      <td>IndiGo</td>\n",
       "      <td>Banglore</td>\n",
       "      <td>New Delhi</td>\n",
       "      <td>1</td>\n",
       "      <td>13302</td>\n",
       "      <td>1</td>\n",
       "      <td>3</td>\n",
       "      <td>2019</td>\n",
       "      <td>16</td>\n",
       "      <td>50</td>\n",
       "      <td>21</td>\n",
       "      <td>35</td>\n",
       "      <td>285</td>\n",
       "    </tr>\n",
       "  </tbody>\n",
       "</table>\n",
       "</div>"
      ],
      "text/plain": [
       "       airline    source destination  total_stops  price  date  month  year  \\\n",
       "0       IndiGo  Banglore   New Delhi            0   3897    24      3  2019   \n",
       "1    Air India   Kolkata    Banglore            2   7662     1      5  2019   \n",
       "2  Jet Airways     Delhi      Cochin            2  13882     9      6  2019   \n",
       "3       IndiGo   Kolkata    Banglore            1   6218    12      5  2019   \n",
       "4       IndiGo  Banglore   New Delhi            1  13302     1      3  2019   \n",
       "\n",
       "   dep_hours  dep_min  arrival_hours  arrival_min  duration_total  \n",
       "0         22       20              1           10             170  \n",
       "1          5       50             13           15             445  \n",
       "2          9       25              4           25            1140  \n",
       "3         18        5             23           30             325  \n",
       "4         16       50             21           35             285  "
      ]
     },
     "execution_count": 16,
     "metadata": {},
     "output_type": "execute_result"
    }
   ],
   "source": [
    "df.head()"
   ]
  },
  {
   "cell_type": "code",
   "execution_count": 17,
   "id": "496855c0",
   "metadata": {},
   "outputs": [],
   "source": [
    "df['source_destination'] = df['source'] + ' ' + df['destination']\n",
    "df.drop(columns=['source','destination'], inplace=True)"
   ]
  },
  {
   "cell_type": "code",
   "execution_count": 18,
   "id": "ecbf3f8c",
   "metadata": {},
   "outputs": [
    {
     "data": {
      "text/html": [
       "<div>\n",
       "<style scoped>\n",
       "    .dataframe tbody tr th:only-of-type {\n",
       "        vertical-align: middle;\n",
       "    }\n",
       "\n",
       "    .dataframe tbody tr th {\n",
       "        vertical-align: top;\n",
       "    }\n",
       "\n",
       "    .dataframe thead th {\n",
       "        text-align: right;\n",
       "    }\n",
       "</style>\n",
       "<table border=\"1\" class=\"dataframe\">\n",
       "  <thead>\n",
       "    <tr style=\"text-align: right;\">\n",
       "      <th></th>\n",
       "      <th>airline</th>\n",
       "      <th>total_stops</th>\n",
       "      <th>price</th>\n",
       "      <th>date</th>\n",
       "      <th>month</th>\n",
       "      <th>year</th>\n",
       "      <th>dep_hours</th>\n",
       "      <th>dep_min</th>\n",
       "      <th>arrival_hours</th>\n",
       "      <th>arrival_min</th>\n",
       "      <th>duration_total</th>\n",
       "      <th>source_destination</th>\n",
       "    </tr>\n",
       "  </thead>\n",
       "  <tbody>\n",
       "    <tr>\n",
       "      <th>0</th>\n",
       "      <td>IndiGo</td>\n",
       "      <td>0</td>\n",
       "      <td>3897</td>\n",
       "      <td>24</td>\n",
       "      <td>3</td>\n",
       "      <td>2019</td>\n",
       "      <td>22</td>\n",
       "      <td>20</td>\n",
       "      <td>1</td>\n",
       "      <td>10</td>\n",
       "      <td>170</td>\n",
       "      <td>Banglore New Delhi</td>\n",
       "    </tr>\n",
       "    <tr>\n",
       "      <th>1</th>\n",
       "      <td>Air India</td>\n",
       "      <td>2</td>\n",
       "      <td>7662</td>\n",
       "      <td>1</td>\n",
       "      <td>5</td>\n",
       "      <td>2019</td>\n",
       "      <td>5</td>\n",
       "      <td>50</td>\n",
       "      <td>13</td>\n",
       "      <td>15</td>\n",
       "      <td>445</td>\n",
       "      <td>Kolkata Banglore</td>\n",
       "    </tr>\n",
       "  </tbody>\n",
       "</table>\n",
       "</div>"
      ],
      "text/plain": [
       "     airline  total_stops  price  date  month  year  dep_hours  dep_min  \\\n",
       "0     IndiGo            0   3897    24      3  2019         22       20   \n",
       "1  Air India            2   7662     1      5  2019          5       50   \n",
       "\n",
       "   arrival_hours  arrival_min  duration_total  source_destination  \n",
       "0              1           10             170  Banglore New Delhi  \n",
       "1             13           15             445    Kolkata Banglore  "
      ]
     },
     "execution_count": 18,
     "metadata": {},
     "output_type": "execute_result"
    }
   ],
   "source": [
    "df.head(2)"
   ]
  },
  {
   "cell_type": "code",
   "execution_count": 33,
   "id": "3d1fd4c2",
   "metadata": {},
   "outputs": [
    {
     "data": {
      "text/html": [
       "<div>\n",
       "<style scoped>\n",
       "    .dataframe tbody tr th:only-of-type {\n",
       "        vertical-align: middle;\n",
       "    }\n",
       "\n",
       "    .dataframe tbody tr th {\n",
       "        vertical-align: top;\n",
       "    }\n",
       "\n",
       "    .dataframe thead th {\n",
       "        text-align: right;\n",
       "    }\n",
       "</style>\n",
       "<table border=\"1\" class=\"dataframe\">\n",
       "  <thead>\n",
       "    <tr style=\"text-align: right;\">\n",
       "      <th></th>\n",
       "      <th>count</th>\n",
       "      <th>mean</th>\n",
       "      <th>std</th>\n",
       "      <th>min</th>\n",
       "      <th>25%</th>\n",
       "      <th>50%</th>\n",
       "      <th>75%</th>\n",
       "      <th>max</th>\n",
       "    </tr>\n",
       "    <tr>\n",
       "      <th>source_destination</th>\n",
       "      <th></th>\n",
       "      <th></th>\n",
       "      <th></th>\n",
       "      <th></th>\n",
       "      <th></th>\n",
       "      <th></th>\n",
       "      <th></th>\n",
       "      <th></th>\n",
       "    </tr>\n",
       "  </thead>\n",
       "  <tbody>\n",
       "    <tr>\n",
       "      <th>Banglore Delhi</th>\n",
       "      <td>1265.0</td>\n",
       "      <td>5143.918577</td>\n",
       "      <td>1346.487105</td>\n",
       "      <td>3257.0</td>\n",
       "      <td>4030.0</td>\n",
       "      <td>4823.0</td>\n",
       "      <td>5911.0</td>\n",
       "      <td>8541.0</td>\n",
       "    </tr>\n",
       "    <tr>\n",
       "      <th>Banglore New Delhi</th>\n",
       "      <td>932.0</td>\n",
       "      <td>11917.716738</td>\n",
       "      <td>7416.086298</td>\n",
       "      <td>3383.0</td>\n",
       "      <td>7240.0</td>\n",
       "      <td>10898.5</td>\n",
       "      <td>13817.0</td>\n",
       "      <td>79512.0</td>\n",
       "    </tr>\n",
       "    <tr>\n",
       "      <th>Chennai Kolkata</th>\n",
       "      <td>381.0</td>\n",
       "      <td>4789.892388</td>\n",
       "      <td>2190.219021</td>\n",
       "      <td>3145.0</td>\n",
       "      <td>3597.0</td>\n",
       "      <td>3850.0</td>\n",
       "      <td>5277.0</td>\n",
       "      <td>19630.0</td>\n",
       "    </tr>\n",
       "    <tr>\n",
       "      <th>Delhi Cochin</th>\n",
       "      <td>4537.0</td>\n",
       "      <td>10539.439057</td>\n",
       "      <td>3781.948512</td>\n",
       "      <td>3876.0</td>\n",
       "      <td>7202.0</td>\n",
       "      <td>10262.0</td>\n",
       "      <td>13344.0</td>\n",
       "      <td>52285.0</td>\n",
       "    </tr>\n",
       "    <tr>\n",
       "      <th>Kolkata Banglore</th>\n",
       "      <td>2871.0</td>\n",
       "      <td>9158.389411</td>\n",
       "      <td>3741.997070</td>\n",
       "      <td>3480.0</td>\n",
       "      <td>5192.0</td>\n",
       "      <td>9345.0</td>\n",
       "      <td>12681.0</td>\n",
       "      <td>31945.0</td>\n",
       "    </tr>\n",
       "    <tr>\n",
       "      <th>Mumbai Hyderabad</th>\n",
       "      <td>697.0</td>\n",
       "      <td>5059.708752</td>\n",
       "      <td>4100.504092</td>\n",
       "      <td>1759.0</td>\n",
       "      <td>2647.0</td>\n",
       "      <td>3342.0</td>\n",
       "      <td>5678.0</td>\n",
       "      <td>25139.0</td>\n",
       "    </tr>\n",
       "  </tbody>\n",
       "</table>\n",
       "</div>"
      ],
      "text/plain": [
       "                     count          mean          std     min     25%  \\\n",
       "source_destination                                                      \n",
       "Banglore Delhi      1265.0   5143.918577  1346.487105  3257.0  4030.0   \n",
       "Banglore New Delhi   932.0  11917.716738  7416.086298  3383.0  7240.0   \n",
       "Chennai Kolkata      381.0   4789.892388  2190.219021  3145.0  3597.0   \n",
       "Delhi Cochin        4537.0  10539.439057  3781.948512  3876.0  7202.0   \n",
       "Kolkata Banglore    2871.0   9158.389411  3741.997070  3480.0  5192.0   \n",
       "Mumbai Hyderabad     697.0   5059.708752  4100.504092  1759.0  2647.0   \n",
       "\n",
       "                        50%      75%      max  \n",
       "source_destination                             \n",
       "Banglore Delhi       4823.0   5911.0   8541.0  \n",
       "Banglore New Delhi  10898.5  13817.0  79512.0  \n",
       "Chennai Kolkata      3850.0   5277.0  19630.0  \n",
       "Delhi Cochin        10262.0  13344.0  52285.0  \n",
       "Kolkata Banglore     9345.0  12681.0  31945.0  \n",
       "Mumbai Hyderabad     3342.0   5678.0  25139.0  "
      ]
     },
     "execution_count": 33,
     "metadata": {},
     "output_type": "execute_result"
    }
   ],
   "source": [
    "df.groupby('source_destination')['price'].describe()"
   ]
  },
  {
   "cell_type": "code",
   "execution_count": 20,
   "id": "00e7ce8b",
   "metadata": {},
   "outputs": [
    {
     "data": {
      "text/plain": [
       "airline               object\n",
       "total_stops            int64\n",
       "price                  int64\n",
       "date                   int64\n",
       "month                  int64\n",
       "year                   int64\n",
       "dep_hours              int64\n",
       "dep_min                int64\n",
       "arrival_hours          int64\n",
       "arrival_min            int64\n",
       "duration_total         int64\n",
       "source_destination    object\n",
       "dtype: object"
      ]
     },
     "execution_count": 20,
     "metadata": {},
     "output_type": "execute_result"
    }
   ],
   "source": [
    "df.dtypes"
   ]
  },
  {
   "cell_type": "code",
   "execution_count": 34,
   "id": "056cde42",
   "metadata": {},
   "outputs": [],
   "source": [
    "df[['year','month','date']] = df[['year','month','date']].astype(str)"
   ]
  },
  {
   "cell_type": "code",
   "execution_count": 35,
   "id": "93ce6744",
   "metadata": {},
   "outputs": [
    {
     "data": {
      "text/plain": [
       "2"
      ]
     },
     "execution_count": 35,
     "metadata": {},
     "output_type": "execute_result"
    }
   ],
   "source": [
    "len(df['date'][0])"
   ]
  },
  {
   "cell_type": "code",
   "execution_count": 36,
   "id": "0a599fc7",
   "metadata": {},
   "outputs": [],
   "source": [
    "for i in range(len(df['date'])):\n",
    "    ind = i\n",
    "    if len(df['date'][ind]) == 1:\n",
    "        df['date'][ind] = '0' + df['date'][ind]\n",
    "    if len(df['month'][ind]) == 1:\n",
    "        df['month'][ind] = '0' + df['month'][ind]"
   ]
  },
  {
   "cell_type": "code",
   "execution_count": 37,
   "id": "34a37cb6",
   "metadata": {},
   "outputs": [],
   "source": [
    "df['dates'] = df['year'] + '-' + df['month'] + '-' + df['date'] "
   ]
  },
  {
   "cell_type": "code",
   "execution_count": 38,
   "id": "313db5ff",
   "metadata": {},
   "outputs": [
    {
     "data": {
      "text/plain": [
       "0        2019-03-24\n",
       "1        2019-05-01\n",
       "2        2019-06-09\n",
       "3        2019-05-12\n",
       "4        2019-03-01\n",
       "            ...    \n",
       "10678    2019-04-09\n",
       "10679    2019-04-27\n",
       "10680    2019-04-27\n",
       "10681    2019-03-01\n",
       "10682    2019-05-09\n",
       "Name: dates, Length: 10683, dtype: object"
      ]
     },
     "execution_count": 38,
     "metadata": {},
     "output_type": "execute_result"
    }
   ],
   "source": [
    "df['dates']"
   ]
  },
  {
   "cell_type": "code",
   "execution_count": 39,
   "id": "c17ed663",
   "metadata": {},
   "outputs": [
    {
     "data": {
      "text/html": [
       "<div>\n",
       "<style scoped>\n",
       "    .dataframe tbody tr th:only-of-type {\n",
       "        vertical-align: middle;\n",
       "    }\n",
       "\n",
       "    .dataframe tbody tr th {\n",
       "        vertical-align: top;\n",
       "    }\n",
       "\n",
       "    .dataframe thead th {\n",
       "        text-align: right;\n",
       "    }\n",
       "</style>\n",
       "<table border=\"1\" class=\"dataframe\">\n",
       "  <thead>\n",
       "    <tr style=\"text-align: right;\">\n",
       "      <th></th>\n",
       "      <th>airline</th>\n",
       "      <th>total_stops</th>\n",
       "      <th>price</th>\n",
       "      <th>date</th>\n",
       "      <th>month</th>\n",
       "      <th>year</th>\n",
       "      <th>dep_hours</th>\n",
       "      <th>dep_min</th>\n",
       "      <th>arrival_hours</th>\n",
       "      <th>arrival_min</th>\n",
       "      <th>duration_total</th>\n",
       "      <th>source_destination</th>\n",
       "      <th>dates</th>\n",
       "    </tr>\n",
       "  </thead>\n",
       "  <tbody>\n",
       "    <tr>\n",
       "      <th>0</th>\n",
       "      <td>IndiGo</td>\n",
       "      <td>0</td>\n",
       "      <td>3897</td>\n",
       "      <td>24</td>\n",
       "      <td>03</td>\n",
       "      <td>2019</td>\n",
       "      <td>22</td>\n",
       "      <td>20</td>\n",
       "      <td>1</td>\n",
       "      <td>10</td>\n",
       "      <td>170</td>\n",
       "      <td>Banglore New Delhi</td>\n",
       "      <td>2019-03-24</td>\n",
       "    </tr>\n",
       "    <tr>\n",
       "      <th>1</th>\n",
       "      <td>Air India</td>\n",
       "      <td>2</td>\n",
       "      <td>7662</td>\n",
       "      <td>01</td>\n",
       "      <td>05</td>\n",
       "      <td>2019</td>\n",
       "      <td>5</td>\n",
       "      <td>50</td>\n",
       "      <td>13</td>\n",
       "      <td>15</td>\n",
       "      <td>445</td>\n",
       "      <td>Kolkata Banglore</td>\n",
       "      <td>2019-05-01</td>\n",
       "    </tr>\n",
       "  </tbody>\n",
       "</table>\n",
       "</div>"
      ],
      "text/plain": [
       "     airline  total_stops  price date month  year  dep_hours  dep_min  \\\n",
       "0     IndiGo            0   3897   24    03  2019         22       20   \n",
       "1  Air India            2   7662   01    05  2019          5       50   \n",
       "\n",
       "   arrival_hours  arrival_min  duration_total  source_destination       dates  \n",
       "0              1           10             170  Banglore New Delhi  2019-03-24  \n",
       "1             13           15             445    Kolkata Banglore  2019-05-01  "
      ]
     },
     "execution_count": 39,
     "metadata": {},
     "output_type": "execute_result"
    }
   ],
   "source": [
    "df.head(2)"
   ]
  },
  {
   "cell_type": "code",
   "execution_count": 40,
   "id": "f0b1a81f",
   "metadata": {},
   "outputs": [],
   "source": [
    "df.drop(columns = ['year','month','date'] , inplace=True)"
   ]
  },
  {
   "cell_type": "code",
   "execution_count": 41,
   "id": "24111f16",
   "metadata": {},
   "outputs": [],
   "source": [
    "df[['dep_hours','dep_min','arrival_hours','arrival_min']] = df[['dep_hours','dep_min','arrival_hours','arrival_min']].astype(str)"
   ]
  },
  {
   "cell_type": "code",
   "execution_count": 42,
   "id": "930b13e4",
   "metadata": {},
   "outputs": [],
   "source": [
    "for i in range(len(df['dep_hours'])):\n",
    "    ind = i\n",
    "    if len(df['dep_hours'][ind]) == 1:\n",
    "        df['dep_hours'][ind] = '0' + df['dep_hours'][ind]\n",
    "    if len(df['dep_min'][ind]) == 1:\n",
    "        df['dep_min'][ind] = '0' + df['dep_min'][ind]\n",
    "    if len(df['arrival_min'][ind]) == 1:\n",
    "        df['arrival_min'][ind] = '0' + df['arrival_min'][ind]\n",
    "    if len(df['arrival_hours'][ind]) == 1:\n",
    "        df['arrival_hours'][ind] = '0' + df['arrival_hours'][ind]"
   ]
  },
  {
   "cell_type": "code",
   "execution_count": 43,
   "id": "6657aeef",
   "metadata": {},
   "outputs": [],
   "source": [
    "df['dep_time'] = df['dep_hours']+':'+df['dep_min']\n",
    "df['arrival_time'] = df['arrival_hours'] +':'+  df['arrival_min']"
   ]
  },
  {
   "cell_type": "code",
   "execution_count": 44,
   "id": "d4f30847",
   "metadata": {},
   "outputs": [
    {
     "data": {
      "text/html": [
       "<div>\n",
       "<style scoped>\n",
       "    .dataframe tbody tr th:only-of-type {\n",
       "        vertical-align: middle;\n",
       "    }\n",
       "\n",
       "    .dataframe tbody tr th {\n",
       "        vertical-align: top;\n",
       "    }\n",
       "\n",
       "    .dataframe thead th {\n",
       "        text-align: right;\n",
       "    }\n",
       "</style>\n",
       "<table border=\"1\" class=\"dataframe\">\n",
       "  <thead>\n",
       "    <tr style=\"text-align: right;\">\n",
       "      <th></th>\n",
       "      <th>airline</th>\n",
       "      <th>total_stops</th>\n",
       "      <th>price</th>\n",
       "      <th>dep_hours</th>\n",
       "      <th>dep_min</th>\n",
       "      <th>arrival_hours</th>\n",
       "      <th>arrival_min</th>\n",
       "      <th>duration_total</th>\n",
       "      <th>source_destination</th>\n",
       "      <th>dates</th>\n",
       "      <th>dep_time</th>\n",
       "      <th>arrival_time</th>\n",
       "    </tr>\n",
       "  </thead>\n",
       "  <tbody>\n",
       "    <tr>\n",
       "      <th>0</th>\n",
       "      <td>IndiGo</td>\n",
       "      <td>0</td>\n",
       "      <td>3897</td>\n",
       "      <td>22</td>\n",
       "      <td>20</td>\n",
       "      <td>01</td>\n",
       "      <td>10</td>\n",
       "      <td>170</td>\n",
       "      <td>Banglore New Delhi</td>\n",
       "      <td>2019-03-24</td>\n",
       "      <td>22:20</td>\n",
       "      <td>01:10</td>\n",
       "    </tr>\n",
       "    <tr>\n",
       "      <th>1</th>\n",
       "      <td>Air India</td>\n",
       "      <td>2</td>\n",
       "      <td>7662</td>\n",
       "      <td>05</td>\n",
       "      <td>50</td>\n",
       "      <td>13</td>\n",
       "      <td>15</td>\n",
       "      <td>445</td>\n",
       "      <td>Kolkata Banglore</td>\n",
       "      <td>2019-05-01</td>\n",
       "      <td>05:50</td>\n",
       "      <td>13:15</td>\n",
       "    </tr>\n",
       "  </tbody>\n",
       "</table>\n",
       "</div>"
      ],
      "text/plain": [
       "     airline  total_stops  price dep_hours dep_min arrival_hours arrival_min  \\\n",
       "0     IndiGo            0   3897        22      20            01          10   \n",
       "1  Air India            2   7662        05      50            13          15   \n",
       "\n",
       "   duration_total  source_destination       dates dep_time arrival_time  \n",
       "0             170  Banglore New Delhi  2019-03-24    22:20        01:10  \n",
       "1             445    Kolkata Banglore  2019-05-01    05:50        13:15  "
      ]
     },
     "execution_count": 44,
     "metadata": {},
     "output_type": "execute_result"
    }
   ],
   "source": [
    "df.head(2)"
   ]
  },
  {
   "cell_type": "code",
   "execution_count": 45,
   "id": "b4fbfb87",
   "metadata": {},
   "outputs": [],
   "source": [
    "df.drop(columns=['dep_hours','dep_min','arrival_hours','arrival_min'], inplace=True)"
   ]
  },
  {
   "cell_type": "code",
   "execution_count": 46,
   "id": "72db943d",
   "metadata": {},
   "outputs": [
    {
     "data": {
      "text/html": [
       "<div>\n",
       "<style scoped>\n",
       "    .dataframe tbody tr th:only-of-type {\n",
       "        vertical-align: middle;\n",
       "    }\n",
       "\n",
       "    .dataframe tbody tr th {\n",
       "        vertical-align: top;\n",
       "    }\n",
       "\n",
       "    .dataframe thead th {\n",
       "        text-align: right;\n",
       "    }\n",
       "</style>\n",
       "<table border=\"1\" class=\"dataframe\">\n",
       "  <thead>\n",
       "    <tr style=\"text-align: right;\">\n",
       "      <th></th>\n",
       "      <th>airline</th>\n",
       "      <th>total_stops</th>\n",
       "      <th>price</th>\n",
       "      <th>duration_total</th>\n",
       "      <th>source_destination</th>\n",
       "      <th>dates</th>\n",
       "      <th>dep_time</th>\n",
       "      <th>arrival_time</th>\n",
       "    </tr>\n",
       "  </thead>\n",
       "  <tbody>\n",
       "    <tr>\n",
       "      <th>0</th>\n",
       "      <td>IndiGo</td>\n",
       "      <td>0</td>\n",
       "      <td>3897</td>\n",
       "      <td>170</td>\n",
       "      <td>Banglore New Delhi</td>\n",
       "      <td>2019-03-24</td>\n",
       "      <td>22:20</td>\n",
       "      <td>01:10</td>\n",
       "    </tr>\n",
       "    <tr>\n",
       "      <th>1</th>\n",
       "      <td>Air India</td>\n",
       "      <td>2</td>\n",
       "      <td>7662</td>\n",
       "      <td>445</td>\n",
       "      <td>Kolkata Banglore</td>\n",
       "      <td>2019-05-01</td>\n",
       "      <td>05:50</td>\n",
       "      <td>13:15</td>\n",
       "    </tr>\n",
       "    <tr>\n",
       "      <th>2</th>\n",
       "      <td>Jet Airways</td>\n",
       "      <td>2</td>\n",
       "      <td>13882</td>\n",
       "      <td>1140</td>\n",
       "      <td>Delhi Cochin</td>\n",
       "      <td>2019-06-09</td>\n",
       "      <td>09:25</td>\n",
       "      <td>04:25</td>\n",
       "    </tr>\n",
       "    <tr>\n",
       "      <th>3</th>\n",
       "      <td>IndiGo</td>\n",
       "      <td>1</td>\n",
       "      <td>6218</td>\n",
       "      <td>325</td>\n",
       "      <td>Kolkata Banglore</td>\n",
       "      <td>2019-05-12</td>\n",
       "      <td>18:05</td>\n",
       "      <td>23:30</td>\n",
       "    </tr>\n",
       "    <tr>\n",
       "      <th>4</th>\n",
       "      <td>IndiGo</td>\n",
       "      <td>1</td>\n",
       "      <td>13302</td>\n",
       "      <td>285</td>\n",
       "      <td>Banglore New Delhi</td>\n",
       "      <td>2019-03-01</td>\n",
       "      <td>16:50</td>\n",
       "      <td>21:35</td>\n",
       "    </tr>\n",
       "  </tbody>\n",
       "</table>\n",
       "</div>"
      ],
      "text/plain": [
       "       airline  total_stops  price  duration_total  source_destination  \\\n",
       "0       IndiGo            0   3897             170  Banglore New Delhi   \n",
       "1    Air India            2   7662             445    Kolkata Banglore   \n",
       "2  Jet Airways            2  13882            1140        Delhi Cochin   \n",
       "3       IndiGo            1   6218             325    Kolkata Banglore   \n",
       "4       IndiGo            1  13302             285  Banglore New Delhi   \n",
       "\n",
       "        dates dep_time arrival_time  \n",
       "0  2019-03-24    22:20        01:10  \n",
       "1  2019-05-01    05:50        13:15  \n",
       "2  2019-06-09    09:25        04:25  \n",
       "3  2019-05-12    18:05        23:30  \n",
       "4  2019-03-01    16:50        21:35  "
      ]
     },
     "execution_count": 46,
     "metadata": {},
     "output_type": "execute_result"
    }
   ],
   "source": [
    "df.head()"
   ]
  },
  {
   "cell_type": "code",
   "execution_count": 47,
   "id": "220edec3",
   "metadata": {},
   "outputs": [],
   "source": [
    "df['dep_time'] = pd.to_datetime(df['dep_time'],format= '%H:%M').dt.time\n",
    "df['arrival_time'] = pd.to_datetime(df['arrival_time'],format= '%H:%M').dt.time"
   ]
  },
  {
   "cell_type": "code",
   "execution_count": 48,
   "id": "d200fa59",
   "metadata": {},
   "outputs": [
    {
     "data": {
      "text/plain": [
       "0        22:20:00\n",
       "1        05:50:00\n",
       "2        09:25:00\n",
       "3        18:05:00\n",
       "4        16:50:00\n",
       "           ...   \n",
       "10678    19:55:00\n",
       "10679    20:45:00\n",
       "10680    08:20:00\n",
       "10681    11:30:00\n",
       "10682    10:55:00\n",
       "Name: dep_time, Length: 10683, dtype: object"
      ]
     },
     "execution_count": 48,
     "metadata": {},
     "output_type": "execute_result"
    }
   ],
   "source": [
    "df['dep_time']"
   ]
  },
  {
   "cell_type": "markdown",
   "id": "e1cc1587",
   "metadata": {},
   "source": [
    "## Failed Attempt at working with datetimes in If-Statements"
   ]
  },
  {
   "cell_type": "code",
   "execution_count": null,
   "id": "f65c95b8",
   "metadata": {},
   "outputs": [],
   "source": [
    "from datetime import datetime\n",
    "\n",
    "date_format = '%H:%M:%S'\n",
    "if datetime.strptime('05:00:00' , date_format) > df['dep_time'][0]:\n",
    "    print('hello')"
   ]
  },
  {
   "cell_type": "code",
   "execution_count": null,
   "id": "1cb38baa",
   "metadata": {},
   "outputs": [],
   "source": [
    "def daytime(time):\n",
    "    if 5 <= time < 12:\n",
    "        return 'Morning'\n",
    "    elif 12 <= time < 17:\n",
    "        return 'Afternoon'\n",
    "    elif 17 <= time < 21:\n",
    "        return 'Evening'\n",
    "    elif 21 <= time <= 23 or 0 <= time < 5:\n",
    "        return 'Night'\n",
    "    else:\n",
    "        return 'Invalid Hour'\n",
    "    \n",
    "df['daytime'] = df['dep_time'].apply(daytime)\n",
    "#flight_data['Departure_Time'] = flight_data['Dep_hours'].apply(categorize_hour)\n",
    "#flight_data['Arrival_Time'] = flight_data['Arrival_hours'].apply(categorize_hour)\n",
    "#flight_data = flight_data.drop(columns=['Dep_hours','Dep_min','Arrival_hours','Arrival_min'])"
   ]
  },
  {
   "cell_type": "markdown",
   "id": "dd0cf3b3",
   "metadata": {},
   "source": [
    "## EDA"
   ]
  },
  {
   "cell_type": "code",
   "execution_count": 49,
   "id": "c6ed0e6b",
   "metadata": {},
   "outputs": [
    {
     "data": {
      "text/html": [
       "<div>\n",
       "<style scoped>\n",
       "    .dataframe tbody tr th:only-of-type {\n",
       "        vertical-align: middle;\n",
       "    }\n",
       "\n",
       "    .dataframe tbody tr th {\n",
       "        vertical-align: top;\n",
       "    }\n",
       "\n",
       "    .dataframe thead th {\n",
       "        text-align: right;\n",
       "    }\n",
       "</style>\n",
       "<table border=\"1\" class=\"dataframe\">\n",
       "  <thead>\n",
       "    <tr style=\"text-align: right;\">\n",
       "      <th></th>\n",
       "      <th>airline</th>\n",
       "      <th>total_stops</th>\n",
       "      <th>price</th>\n",
       "      <th>duration_total</th>\n",
       "      <th>source_destination</th>\n",
       "      <th>dates</th>\n",
       "      <th>dep_time</th>\n",
       "      <th>arrival_time</th>\n",
       "    </tr>\n",
       "  </thead>\n",
       "  <tbody>\n",
       "    <tr>\n",
       "      <th>0</th>\n",
       "      <td>IndiGo</td>\n",
       "      <td>0</td>\n",
       "      <td>3897</td>\n",
       "      <td>170</td>\n",
       "      <td>Banglore New Delhi</td>\n",
       "      <td>2019-03-24</td>\n",
       "      <td>22:20:00</td>\n",
       "      <td>01:10:00</td>\n",
       "    </tr>\n",
       "    <tr>\n",
       "      <th>1</th>\n",
       "      <td>Air India</td>\n",
       "      <td>2</td>\n",
       "      <td>7662</td>\n",
       "      <td>445</td>\n",
       "      <td>Kolkata Banglore</td>\n",
       "      <td>2019-05-01</td>\n",
       "      <td>05:50:00</td>\n",
       "      <td>13:15:00</td>\n",
       "    </tr>\n",
       "    <tr>\n",
       "      <th>2</th>\n",
       "      <td>Jet Airways</td>\n",
       "      <td>2</td>\n",
       "      <td>13882</td>\n",
       "      <td>1140</td>\n",
       "      <td>Delhi Cochin</td>\n",
       "      <td>2019-06-09</td>\n",
       "      <td>09:25:00</td>\n",
       "      <td>04:25:00</td>\n",
       "    </tr>\n",
       "    <tr>\n",
       "      <th>3</th>\n",
       "      <td>IndiGo</td>\n",
       "      <td>1</td>\n",
       "      <td>6218</td>\n",
       "      <td>325</td>\n",
       "      <td>Kolkata Banglore</td>\n",
       "      <td>2019-05-12</td>\n",
       "      <td>18:05:00</td>\n",
       "      <td>23:30:00</td>\n",
       "    </tr>\n",
       "    <tr>\n",
       "      <th>4</th>\n",
       "      <td>IndiGo</td>\n",
       "      <td>1</td>\n",
       "      <td>13302</td>\n",
       "      <td>285</td>\n",
       "      <td>Banglore New Delhi</td>\n",
       "      <td>2019-03-01</td>\n",
       "      <td>16:50:00</td>\n",
       "      <td>21:35:00</td>\n",
       "    </tr>\n",
       "  </tbody>\n",
       "</table>\n",
       "</div>"
      ],
      "text/plain": [
       "       airline  total_stops  price  duration_total  source_destination  \\\n",
       "0       IndiGo            0   3897             170  Banglore New Delhi   \n",
       "1    Air India            2   7662             445    Kolkata Banglore   \n",
       "2  Jet Airways            2  13882            1140        Delhi Cochin   \n",
       "3       IndiGo            1   6218             325    Kolkata Banglore   \n",
       "4       IndiGo            1  13302             285  Banglore New Delhi   \n",
       "\n",
       "        dates  dep_time arrival_time  \n",
       "0  2019-03-24  22:20:00     01:10:00  \n",
       "1  2019-05-01  05:50:00     13:15:00  \n",
       "2  2019-06-09  09:25:00     04:25:00  \n",
       "3  2019-05-12  18:05:00     23:30:00  \n",
       "4  2019-03-01  16:50:00     21:35:00  "
      ]
     },
     "execution_count": 49,
     "metadata": {},
     "output_type": "execute_result"
    }
   ],
   "source": [
    "df.head()"
   ]
  },
  {
   "cell_type": "code",
   "execution_count": 52,
   "id": "6ca714ae",
   "metadata": {},
   "outputs": [
    {
     "data": {
      "text/plain": [
       "Text(0, 0.5, 'Price')"
      ]
     },
     "execution_count": 52,
     "metadata": {},
     "output_type": "execute_result"
    },
    {
     "data": {
      "image/png": "[encoded data removed]",
      "text/plain": [
       "<Figure size 640x480 with 1 Axes>"
      ]
     },
     "metadata": {},
     "output_type": "display_data"
    }
   ],
   "source": [
    "plt.scatter(df['dates'],df['price'], label=df['source_destination']);\n",
    "plt.xticks(rotation=90);\n",
    "plt.xlabel('Date')\n",
    "plt.ylabel('Price')"
   ]
  },
  {
   "cell_type": "markdown",
   "id": "c30d815c",
   "metadata": {},
   "source": [
    "Kind of sinusoidal, I wonder if that has anything to do with weekends. Without the outliers I think it would be easier to see. I will cut off the outliers which reach about 80k)"
   ]
  },
  {
   "cell_type": "code",
   "execution_count": 53,
   "id": "542328e8",
   "metadata": {},
   "outputs": [
    {
     "data": {
      "image/png": "[encoded data removed]",
      "text/plain": [
       "<Figure size 640x480 with 1 Axes>"
      ]
     },
     "metadata": {},
     "output_type": "display_data"
    }
   ],
   "source": [
    "plt.scatter(df['dates'],df['price']);\n",
    "plt.xticks(rotation=90);\n",
    "plt.xlabel('Date')\n",
    "plt.ylabel('Price')\n",
    "plt.ylim([0,40000]);"
   ]
  },
  {
   "cell_type": "code",
   "execution_count": 54,
   "id": "078077ba",
   "metadata": {},
   "outputs": [
    {
     "data": {
      "image/png": "[encoded data removed]",
      "text/plain": [
       "<Figure size 640x480 with 1 Axes>"
      ]
     },
     "metadata": {},
     "output_type": "display_data"
    }
   ],
   "source": [
    "plt.scatter(df['duration_total'],df['price']);\n",
    "plt.xlabel('Duration')\n",
    "plt.ylabel('Price')\n",
    "plt.title('Flight Duration vs. Cost of Flight');"
   ]
  },
  {
   "cell_type": "markdown",
   "id": "e52a1ce6",
   "metadata": {},
   "source": [
    "Wow, looks like there's no correlation between duration and cost. Really interesting."
   ]
  },
  {
   "cell_type": "code",
   "execution_count": 55,
   "id": "890220f1",
   "metadata": {
    "scrolled": false
   },
   "outputs": [
    {
     "data": {
      "text/plain": [
       "array([[<Axes: title={'center': 'total_stops'}>,\n",
       "        <Axes: title={'center': 'price'}>],\n",
       "       [<Axes: title={'center': 'duration_total'}>, <Axes: >]],\n",
       "      dtype=object)"
      ]
     },
     "execution_count": 55,
     "metadata": {},
     "output_type": "execute_result"
    },
    {
     "data": {
      "image/png": "[encoded data removed]",
      "text/plain": [
       "<Figure size 640x480 with 4 Axes>"
      ]
     },
     "metadata": {},
     "output_type": "display_data"
    }
   ],
   "source": [
    "df.hist()"
   ]
  },
  {
   "cell_type": "code",
   "execution_count": 56,
   "id": "550b3d5b",
   "metadata": {},
   "outputs": [],
   "source": [
    "df_flights = pd.get_dummies(df['source_destination'], dtype=int)"
   ]
  },
  {
   "cell_type": "code",
   "execution_count": 57,
   "id": "5e204520",
   "metadata": {},
   "outputs": [
    {
     "data": {
      "text/plain": [
       "Banglore Delhi        1265\n",
       "Banglore New Delhi     932\n",
       "Chennai Kolkata        381\n",
       "Delhi Cochin          4537\n",
       "Kolkata Banglore      2871\n",
       "Mumbai Hyderabad       697\n",
       "dtype: int64"
      ]
     },
     "execution_count": 57,
     "metadata": {},
     "output_type": "execute_result"
    }
   ],
   "source": [
    "df_flights.sum()"
   ]
  },
  {
   "cell_type": "code",
   "execution_count": 58,
   "id": "a3f29481",
   "metadata": {},
   "outputs": [],
   "source": [
    "flights =  pd.concat([df, df_flights],axis=1)"
   ]
  },
  {
   "cell_type": "code",
   "execution_count": 59,
   "id": "c91a7202",
   "metadata": {},
   "outputs": [
    {
     "data": {
      "image/png": "[encoded data removed]",
      "text/plain": [
       "<Figure size 640x480 with 6 Axes>"
      ]
     },
     "metadata": {},
     "output_type": "display_data"
    }
   ],
   "source": [
    "flights.hist('price', by='source_destination',xrot=0);"
   ]
  },
  {
   "cell_type": "code",
   "execution_count": 74,
   "id": "5c829658",
   "metadata": {},
   "outputs": [
    {
     "data": {
      "text/plain": [
       "<Axes: xlabel='duration_total', ylabel='price'>"
      ]
     },
     "execution_count": 74,
     "metadata": {},
     "output_type": "execute_result"
    },
    {
     "data": {
      "image/png": "[encoded data removed]",
      "text/plain": [
       "<Figure size 640x480 with 1 Axes>"
      ]
     },
     "metadata": {},
     "output_type": "display_data"
    }
   ],
   "source": [
    "#fig, ax = plt.subplots(figsize=(10,10))\n",
    "#bp = flights.groupby('source_destination')['price'].plot(kind='line', ax=ax)\n",
    "sns.scatterplot(x='duration_total',y = 'price', data = df, hue= 'source_destination')\n"
   ]
  },
  {
   "cell_type": "code",
   "execution_count": 61,
   "id": "5a0048aa",
   "metadata": {},
   "outputs": [
    {
     "data": {
      "text/html": [
       "<div>\n",
       "<style scoped>\n",
       "    .dataframe tbody tr th:only-of-type {\n",
       "        vertical-align: middle;\n",
       "    }\n",
       "\n",
       "    .dataframe tbody tr th {\n",
       "        vertical-align: top;\n",
       "    }\n",
       "\n",
       "    .dataframe thead th {\n",
       "        text-align: right;\n",
       "    }\n",
       "</style>\n",
       "<table border=\"1\" class=\"dataframe\">\n",
       "  <thead>\n",
       "    <tr style=\"text-align: right;\">\n",
       "      <th></th>\n",
       "      <th>airline</th>\n",
       "      <th>total_stops</th>\n",
       "      <th>price</th>\n",
       "      <th>duration_total</th>\n",
       "      <th>source_destination</th>\n",
       "      <th>dates</th>\n",
       "      <th>dep_time</th>\n",
       "      <th>arrival_time</th>\n",
       "    </tr>\n",
       "  </thead>\n",
       "  <tbody>\n",
       "    <tr>\n",
       "      <th>0</th>\n",
       "      <td>IndiGo</td>\n",
       "      <td>0</td>\n",
       "      <td>3897</td>\n",
       "      <td>170</td>\n",
       "      <td>Banglore New Delhi</td>\n",
       "      <td>2019-03-24</td>\n",
       "      <td>22:20:00</td>\n",
       "      <td>01:10:00</td>\n",
       "    </tr>\n",
       "    <tr>\n",
       "      <th>1</th>\n",
       "      <td>Air India</td>\n",
       "      <td>2</td>\n",
       "      <td>7662</td>\n",
       "      <td>445</td>\n",
       "      <td>Kolkata Banglore</td>\n",
       "      <td>2019-05-01</td>\n",
       "      <td>05:50:00</td>\n",
       "      <td>13:15:00</td>\n",
       "    </tr>\n",
       "    <tr>\n",
       "      <th>2</th>\n",
       "      <td>Jet Airways</td>\n",
       "      <td>2</td>\n",
       "      <td>13882</td>\n",
       "      <td>1140</td>\n",
       "      <td>Delhi Cochin</td>\n",
       "      <td>2019-06-09</td>\n",
       "      <td>09:25:00</td>\n",
       "      <td>04:25:00</td>\n",
       "    </tr>\n",
       "    <tr>\n",
       "      <th>3</th>\n",
       "      <td>IndiGo</td>\n",
       "      <td>1</td>\n",
       "      <td>6218</td>\n",
       "      <td>325</td>\n",
       "      <td>Kolkata Banglore</td>\n",
       "      <td>2019-05-12</td>\n",
       "      <td>18:05:00</td>\n",
       "      <td>23:30:00</td>\n",
       "    </tr>\n",
       "    <tr>\n",
       "      <th>4</th>\n",
       "      <td>IndiGo</td>\n",
       "      <td>1</td>\n",
       "      <td>13302</td>\n",
       "      <td>285</td>\n",
       "      <td>Banglore New Delhi</td>\n",
       "      <td>2019-03-01</td>\n",
       "      <td>16:50:00</td>\n",
       "      <td>21:35:00</td>\n",
       "    </tr>\n",
       "  </tbody>\n",
       "</table>\n",
       "</div>"
      ],
      "text/plain": [
       "       airline  total_stops  price  duration_total  source_destination  \\\n",
       "0       IndiGo            0   3897             170  Banglore New Delhi   \n",
       "1    Air India            2   7662             445    Kolkata Banglore   \n",
       "2  Jet Airways            2  13882            1140        Delhi Cochin   \n",
       "3       IndiGo            1   6218             325    Kolkata Banglore   \n",
       "4       IndiGo            1  13302             285  Banglore New Delhi   \n",
       "\n",
       "        dates  dep_time arrival_time  \n",
       "0  2019-03-24  22:20:00     01:10:00  \n",
       "1  2019-05-01  05:50:00     13:15:00  \n",
       "2  2019-06-09  09:25:00     04:25:00  \n",
       "3  2019-05-12  18:05:00     23:30:00  \n",
       "4  2019-03-01  16:50:00     21:35:00  "
      ]
     },
     "execution_count": 61,
     "metadata": {},
     "output_type": "execute_result"
    }
   ],
   "source": [
    "df.head()"
   ]
  },
  {
   "cell_type": "markdown",
   "id": "6b9c9f6b",
   "metadata": {},
   "source": [
    "Assuming Duration and Distance are somewhat proportionate:"
   ]
  },
  {
   "cell_type": "code",
   "execution_count": 62,
   "id": "5b3e7183",
   "metadata": {},
   "outputs": [
    {
     "data": {
      "text/html": [
       "<div>\n",
       "<style scoped>\n",
       "    .dataframe tbody tr th:only-of-type {\n",
       "        vertical-align: middle;\n",
       "    }\n",
       "\n",
       "    .dataframe tbody tr th {\n",
       "        vertical-align: top;\n",
       "    }\n",
       "\n",
       "    .dataframe thead th {\n",
       "        text-align: right;\n",
       "    }\n",
       "</style>\n",
       "<table border=\"1\" class=\"dataframe\">\n",
       "  <thead>\n",
       "    <tr style=\"text-align: right;\">\n",
       "      <th></th>\n",
       "      <th>airline</th>\n",
       "      <th>total_stops</th>\n",
       "      <th>price</th>\n",
       "      <th>duration_total</th>\n",
       "      <th>source_destination</th>\n",
       "      <th>dates</th>\n",
       "      <th>dep_time</th>\n",
       "      <th>arrival_time</th>\n",
       "    </tr>\n",
       "  </thead>\n",
       "  <tbody>\n",
       "    <tr>\n",
       "      <th>9450</th>\n",
       "      <td>Air India</td>\n",
       "      <td>0</td>\n",
       "      <td>4307</td>\n",
       "      <td>75</td>\n",
       "      <td>Mumbai Hyderabad</td>\n",
       "      <td>2019-03-12</td>\n",
       "      <td>19:30:00</td>\n",
       "      <td>20:45:00</td>\n",
       "    </tr>\n",
       "    <tr>\n",
       "      <th>4845</th>\n",
       "      <td>Air India</td>\n",
       "      <td>0</td>\n",
       "      <td>2575</td>\n",
       "      <td>75</td>\n",
       "      <td>Mumbai Hyderabad</td>\n",
       "      <td>2019-03-21</td>\n",
       "      <td>19:30:00</td>\n",
       "      <td>20:45:00</td>\n",
       "    </tr>\n",
       "    <tr>\n",
       "      <th>844</th>\n",
       "      <td>Air India</td>\n",
       "      <td>0</td>\n",
       "      <td>3625</td>\n",
       "      <td>75</td>\n",
       "      <td>Mumbai Hyderabad</td>\n",
       "      <td>2019-05-24</td>\n",
       "      <td>19:30:00</td>\n",
       "      <td>20:45:00</td>\n",
       "    </tr>\n",
       "    <tr>\n",
       "      <th>4806</th>\n",
       "      <td>Air India</td>\n",
       "      <td>0</td>\n",
       "      <td>2050</td>\n",
       "      <td>75</td>\n",
       "      <td>Mumbai Hyderabad</td>\n",
       "      <td>2019-04-03</td>\n",
       "      <td>19:30:00</td>\n",
       "      <td>20:45:00</td>\n",
       "    </tr>\n",
       "    <tr>\n",
       "      <th>3708</th>\n",
       "      <td>Air India</td>\n",
       "      <td>0</td>\n",
       "      <td>3100</td>\n",
       "      <td>75</td>\n",
       "      <td>Mumbai Hyderabad</td>\n",
       "      <td>2019-05-01</td>\n",
       "      <td>19:30:00</td>\n",
       "      <td>20:45:00</td>\n",
       "    </tr>\n",
       "    <tr>\n",
       "      <th>...</th>\n",
       "      <td>...</td>\n",
       "      <td>...</td>\n",
       "      <td>...</td>\n",
       "      <td>...</td>\n",
       "      <td>...</td>\n",
       "      <td>...</td>\n",
       "      <td>...</td>\n",
       "      <td>...</td>\n",
       "    </tr>\n",
       "    <tr>\n",
       "      <th>7906</th>\n",
       "      <td>Air India</td>\n",
       "      <td>2</td>\n",
       "      <td>13990</td>\n",
       "      <td>2480</td>\n",
       "      <td>Kolkata Banglore</td>\n",
       "      <td>2019-03-24</td>\n",
       "      <td>05:55:00</td>\n",
       "      <td>23:15:00</td>\n",
       "    </tr>\n",
       "    <tr>\n",
       "      <th>5953</th>\n",
       "      <td>Jet Airways</td>\n",
       "      <td>2</td>\n",
       "      <td>11664</td>\n",
       "      <td>2525</td>\n",
       "      <td>Delhi Cochin</td>\n",
       "      <td>2019-03-21</td>\n",
       "      <td>10:20:00</td>\n",
       "      <td>04:25:00</td>\n",
       "    </tr>\n",
       "    <tr>\n",
       "      <th>8409</th>\n",
       "      <td>Jet Airways</td>\n",
       "      <td>2</td>\n",
       "      <td>12819</td>\n",
       "      <td>2565</td>\n",
       "      <td>Delhi Cochin</td>\n",
       "      <td>2019-03-21</td>\n",
       "      <td>09:40:00</td>\n",
       "      <td>04:25:00</td>\n",
       "    </tr>\n",
       "    <tr>\n",
       "      <th>1067</th>\n",
       "      <td>Jet Airways</td>\n",
       "      <td>2</td>\n",
       "      <td>20064</td>\n",
       "      <td>2820</td>\n",
       "      <td>Delhi Cochin</td>\n",
       "      <td>2019-03-03</td>\n",
       "      <td>05:25:00</td>\n",
       "      <td>04:25:00</td>\n",
       "    </tr>\n",
       "    <tr>\n",
       "      <th>10456</th>\n",
       "      <td>Jet Airways</td>\n",
       "      <td>2</td>\n",
       "      <td>20694</td>\n",
       "      <td>2860</td>\n",
       "      <td>Delhi Cochin</td>\n",
       "      <td>2019-03-06</td>\n",
       "      <td>19:10:00</td>\n",
       "      <td>18:50:00</td>\n",
       "    </tr>\n",
       "  </tbody>\n",
       "</table>\n",
       "<p>10683 rows × 8 columns</p>\n",
       "</div>"
      ],
      "text/plain": [
       "           airline  total_stops  price  duration_total source_destination  \\\n",
       "9450     Air India            0   4307              75   Mumbai Hyderabad   \n",
       "4845     Air India            0   2575              75   Mumbai Hyderabad   \n",
       "844      Air India            0   3625              75   Mumbai Hyderabad   \n",
       "4806     Air India            0   2050              75   Mumbai Hyderabad   \n",
       "3708     Air India            0   3100              75   Mumbai Hyderabad   \n",
       "...            ...          ...    ...             ...                ...   \n",
       "7906     Air India            2  13990            2480   Kolkata Banglore   \n",
       "5953   Jet Airways            2  11664            2525       Delhi Cochin   \n",
       "8409   Jet Airways            2  12819            2565       Delhi Cochin   \n",
       "1067   Jet Airways            2  20064            2820       Delhi Cochin   \n",
       "10456  Jet Airways            2  20694            2860       Delhi Cochin   \n",
       "\n",
       "            dates  dep_time arrival_time  \n",
       "9450   2019-03-12  19:30:00     20:45:00  \n",
       "4845   2019-03-21  19:30:00     20:45:00  \n",
       "844    2019-05-24  19:30:00     20:45:00  \n",
       "4806   2019-04-03  19:30:00     20:45:00  \n",
       "3708   2019-05-01  19:30:00     20:45:00  \n",
       "...           ...       ...          ...  \n",
       "7906   2019-03-24  05:55:00     23:15:00  \n",
       "5953   2019-03-21  10:20:00     04:25:00  \n",
       "8409   2019-03-21  09:40:00     04:25:00  \n",
       "1067   2019-03-03  05:25:00     04:25:00  \n",
       "10456  2019-03-06  19:10:00     18:50:00  \n",
       "\n",
       "[10683 rows x 8 columns]"
      ]
     },
     "execution_count": 62,
     "metadata": {},
     "output_type": "execute_result"
    }
   ],
   "source": [
    "df.sort_values(by='duration_total')"
   ]
  },
  {
   "cell_type": "code",
   "execution_count": 67,
   "id": "7e1ad73f",
   "metadata": {},
   "outputs": [],
   "source": [
    "ex = df[df['source_destination']=='Mumbai Hyderabad']"
   ]
  },
  {
   "cell_type": "code",
   "execution_count": 69,
   "id": "a8ef3ef6",
   "metadata": {},
   "outputs": [
    {
     "data": {
      "text/plain": [
       "<matplotlib.collections.PathCollection at 0x2123e28c190>"
      ]
     },
     "execution_count": 69,
     "metadata": {},
     "output_type": "execute_result"
    },
    {
     "data": {
      "image/png": "[encoded data removed]",
      "text/plain": [
       "<Figure size 640x480 with 1 Axes>"
      ]
     },
     "metadata": {},
     "output_type": "display_data"
    }
   ],
   "source": [
    "plt.scatter(ex['duration_total'],ex['price'])"
   ]
  },
  {
   "cell_type": "markdown",
   "id": "a0ad26a6",
   "metadata": {},
   "source": [
    "#### Null Hypothesis: \n",
    "\n",
    "Long flights (longer duration) do not cost more than short duration flights."
   ]
  },
  {
   "cell_type": "code",
   "execution_count": 89,
   "id": "f50fd9d4",
   "metadata": {},
   "outputs": [],
   "source": [
    "long_flights = df[df['duration_total']>=1000]\n",
    "short_flights = df[df['duration_total']<1000]"
   ]
  },
  {
   "cell_type": "code",
   "execution_count": 90,
   "id": "9c95325b",
   "metadata": {},
   "outputs": [
    {
     "data": {
      "text/plain": [
       "(2451, 8232)"
      ]
     },
     "execution_count": 90,
     "metadata": {},
     "output_type": "execute_result"
    }
   ],
   "source": [
    "len(long_flights),len(short_flights) "
   ]
  },
  {
   "cell_type": "code",
   "execution_count": 91,
   "id": "f8e938d7",
   "metadata": {},
   "outputs": [],
   "source": [
    "long_flights_mean = long_flights['price'].mean()\n",
    "short_flights_mean = short_flights['price'].mean()"
   ]
  },
  {
   "cell_type": "code",
   "execution_count": 80,
   "id": "a205ab9d",
   "metadata": {},
   "outputs": [],
   "source": [
    "def diff_of_means(data_1, data_2):\n",
    "    \"\"\"Difference in means of two arrays.\"\"\"\n",
    "    \n",
    "    # The difference of means of data_1, data_2: diff\n",
    "    diff = np.mean(data_1) - np.mean(data_2)\n",
    "    return diff"
   ]
  },
  {
   "cell_type": "code",
   "execution_count": 81,
   "id": "b59e7e07",
   "metadata": {},
   "outputs": [],
   "source": [
    "def draw_bs_reps(data, func, size=1):\n",
    "    \"\"\"Draw bootstrap replicates.\"\"\"\n",
    "\n",
    "    # Initialize array of replicates: bs_replicates\n",
    "    bs_replicates = np.empty(size)\n",
    "\n",
    "    # Generate replicates\n",
    "    for i in range(size):\n",
    "        bs_replicates[i] = bootstrap_replicate_1d(data,func)\n",
    "\n",
    "    return bs_replicates"
   ]
  },
  {
   "cell_type": "code",
   "execution_count": 82,
   "id": "876e3e07",
   "metadata": {},
   "outputs": [],
   "source": [
    "def bootstrap_replicate_1d(data, func):\n",
    "    \"\"\"Generate bootstrap replicate of 1D data.\"\"\"\n",
    "    bs_sample = np.random.choice(data, len(data))\n",
    "    return func(bs_sample)"
   ]
  },
  {
   "cell_type": "code",
   "execution_count": 92,
   "id": "0c3db0ce",
   "metadata": {},
   "outputs": [],
   "source": [
    "# Compute difference of mean impact force from experiment: empirical_diff_means\n",
    "diff_means = diff_of_means(short_flights['price'],long_flights['price'])\n",
    "\n",
    "\n",
    "# Compute mean of pooled data: mean_count\n",
    "group_mean = np.mean(np.concatenate((short_flights['price'],long_flights['price'])))"
   ]
  },
  {
   "cell_type": "code",
   "execution_count": 93,
   "id": "db78eddc",
   "metadata": {},
   "outputs": [],
   "source": [
    "# Shift data sets\n",
    "short_shifted = short_flights['price'] - short_flights_mean + group_mean\n",
    "long_shifted = long_flights['price'] - long_flights_mean + group_mean"
   ]
  },
  {
   "cell_type": "code",
   "execution_count": 94,
   "id": "bacda26f",
   "metadata": {},
   "outputs": [],
   "source": [
    "# Generate bootstrap replicates\n",
    "rand_single = draw_bs_reps(short_shifted,\n",
    "                       np.mean, size=10000)\n",
    "rand_multi = draw_bs_reps(long_shifted,\n",
    "                       np.mean, size=10000)"
   ]
  },
  {
   "cell_type": "code",
   "execution_count": 95,
   "id": "eb9a1cd9",
   "metadata": {},
   "outputs": [],
   "source": [
    "# Get replicates of difference of means: bs_replicates\n",
    "bs_diff_means = rand_single - rand_multi"
   ]
  },
  {
   "cell_type": "code",
   "execution_count": 99,
   "id": "ddf5fa5f",
   "metadata": {},
   "outputs": [
    {
     "name": "stdout",
     "output_type": "stream",
     "text": [
      "p-value = 0.0\n"
     ]
    }
   ],
   "source": [
    "# Compute and print p-value: p\n",
    "p = np.sum(bs_diff_means <= diff_means) / len(bs_diff_means)\n",
    "print('p-value =', p)"
   ]
  },
  {
   "cell_type": "markdown",
   "id": "904aac15",
   "metadata": {},
   "source": [
    "The P-value is below our critical value of 0.05, so we accept the null hypthesis that flight duration does not significantly affect the cost of the flight."
   ]
  }
 ],
 "metadata": {
  "kernelspec": {
   "display_name": "Python 3 (ipykernel)",
   "language": "python",
   "name": "python3"
  },
  "language_info": {
   "codemirror_mode": {
    "name": "ipython",
    "version": 3
   },
   "file_extension": ".py",
   "mimetype": "text/x-python",
   "name": "python",
   "nbconvert_exporter": "python",
   "pygments_lexer": "ipython3",
   "version": "3.11.5"
  }
 },
 "nbformat": 4,
 "nbformat_minor": 5
}
